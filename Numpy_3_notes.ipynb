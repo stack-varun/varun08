{
  "nbformat": 4,
  "nbformat_minor": 0,
  "metadata": {
    "colab": {
      "provenance": [],
      "include_colab_link": true
    },
    "kernelspec": {
      "name": "python3",
      "display_name": "Python 3"
    },
    "language_info": {
      "name": "python"
    }
  },
  "cells": [
    {
      "cell_type": "markdown",
      "metadata": {
        "id": "view-in-github",
        "colab_type": "text"
      },
      "source": [
        "<a href=\"https://colab.research.google.com/github/stack-varun/varun08/blob/main/Numpy_3_notes.ipynb\" target=\"_parent\"><img src=\"https://colab.research.google.com/assets/colab-badge.svg\" alt=\"Open In Colab\"/></a>"
      ]
    },
    {
      "cell_type": "markdown",
      "source": [
        "# Numpy 3"
      ],
      "metadata": {
        "id": "C7gBclmTHydF"
      }
    },
    {
      "cell_type": "markdown",
      "source": [
        "---"
      ],
      "metadata": {
        "id": "WXL96RsmCoYh"
      }
    },
    {
      "cell_type": "markdown",
      "source": [
        "## **Content**\n",
        "\n",
        "- Sorting\n",
        "- Matrix Multiplication\n",
        "  - `np.dot`\n",
        "  - `@` operator\n",
        "  - `np.matmul`\n",
        "- Vectorization\n",
        "- Broadcasting"
      ],
      "metadata": {
        "id": "ScCsr2AnCpqM"
      }
    },
    {
      "cell_type": "markdown",
      "source": [
        "---"
      ],
      "metadata": {
        "id": "y82vFBAyCxGG"
      }
    },
    {
      "cell_type": "markdown",
      "source": [
        "## Sorting\n",
        "\n",
        "- `np.sort` returns a sorted copy of an array."
      ],
      "metadata": {
        "id": "FNOwy5R06W5_"
      }
    },
    {
      "cell_type": "code",
      "source": [
        "import numpy as np"
      ],
      "metadata": {
        "id": "OjTX_Z-E23IN"
      },
      "execution_count": null,
      "outputs": []
    },
    {
      "cell_type": "code",
      "source": [
        "a = np.array([4, 7, 0, 3, 8, 2, 5, 1, 6, 9])\n",
        "a"
      ],
      "metadata": {
        "colab": {
          "base_uri": "https://localhost:8080/"
        },
        "id": "IftFrK996Zp1",
        "outputId": "f2cd2af6-5d51-4e33-a2d4-dad40ef67348"
      },
      "execution_count": null,
      "outputs": [
        {
          "output_type": "execute_result",
          "data": {
            "text/plain": [
              "array([4, 7, 0, 3, 8, 2, 5, 1, 6, 9])"
            ]
          },
          "metadata": {},
          "execution_count": 2
        }
      ]
    },
    {
      "cell_type": "code",
      "source": [
        "b = np.sort(a)\n",
        "b"
      ],
      "metadata": {
        "colab": {
          "base_uri": "https://localhost:8080/"
        },
        "id": "2o6FgFBYGE6H",
        "outputId": "1ec5c4f1-962e-493c-f316-30a0e9187b7c"
      },
      "execution_count": null,
      "outputs": [
        {
          "output_type": "execute_result",
          "data": {
            "text/plain": [
              "array([0, 1, 2, 3, 4, 5, 6, 7, 8, 9])"
            ]
          },
          "metadata": {},
          "execution_count": 3
        }
      ]
    },
    {
      "cell_type": "code",
      "source": [
        "a # no change is reflected in the original array"
      ],
      "metadata": {
        "colab": {
          "base_uri": "https://localhost:8080/"
        },
        "id": "aaGI08DUGIVd",
        "outputId": "23c5029a-48a5-4859-e47a-bae1b0b327d3"
      },
      "execution_count": null,
      "outputs": [
        {
          "output_type": "execute_result",
          "data": {
            "text/plain": [
              "array([4, 7, 0, 3, 8, 2, 5, 1, 6, 9])"
            ]
          },
          "metadata": {},
          "execution_count": 4
        }
      ]
    },
    {
      "cell_type": "markdown",
      "source": [
        "#### We can directly call `sort` method on array but it can change the original array as it is an inplace operation."
      ],
      "metadata": {
        "id": "aIw1ADJlGXKu"
      }
    },
    {
      "cell_type": "code",
      "source": [
        "a.sort() # sorting is performed inplace\n",
        "a"
      ],
      "metadata": {
        "id": "9dJVr5Ga6Z1J",
        "colab": {
          "base_uri": "https://localhost:8080/"
        },
        "outputId": "74b0a362-f7f8-4f8b-d195-f18db868b860"
      },
      "execution_count": null,
      "outputs": [
        {
          "output_type": "execute_result",
          "data": {
            "text/plain": [
              "array([0, 1, 2, 3, 4, 5, 6, 7, 8, 9])"
            ]
          },
          "metadata": {},
          "execution_count": 5
        }
      ]
    },
    {
      "cell_type": "markdown",
      "source": [
        "### **Sorting in 2D array**"
      ],
      "metadata": {
        "id": "w19jtNwCDTtA"
      }
    },
    {
      "cell_type": "code",
      "source": [
        "a = np.array([[1,5,3], [2,5,7], [400, 200, 300]])\n",
        "a"
      ],
      "metadata": {
        "colab": {
          "base_uri": "https://localhost:8080/"
        },
        "id": "0DPum9ZcF0uq",
        "outputId": "4d1a2d6c-61fa-45e4-be87-60c85b0518af"
      },
      "execution_count": null,
      "outputs": [
        {
          "output_type": "execute_result",
          "data": {
            "text/plain": [
              "array([[  1,   5,   3],\n",
              "       [  2,   5,   7],\n",
              "       [400, 200, 300]])"
            ]
          },
          "metadata": {},
          "execution_count": 6
        }
      ]
    },
    {
      "cell_type": "code",
      "source": [
        "np.sort(a, axis=0) # sorting every column"
      ],
      "metadata": {
        "colab": {
          "base_uri": "https://localhost:8080/"
        },
        "id": "-00Dm4mxGEq_",
        "outputId": "e41dd9d4-5a17-45d4-9fc6-93a21f8e9e98"
      },
      "execution_count": null,
      "outputs": [
        {
          "output_type": "execute_result",
          "data": {
            "text/plain": [
              "array([[  1,   5,   3],\n",
              "       [  2,   5,   7],\n",
              "       [400, 200, 300]])"
            ]
          },
          "metadata": {},
          "execution_count": 7
        }
      ]
    },
    {
      "cell_type": "code",
      "source": [
        "np.sort(a, axis=1) # sorting every row"
      ],
      "metadata": {
        "colab": {
          "base_uri": "https://localhost:8080/"
        },
        "id": "7IN2bkxXGKQS",
        "outputId": "b98dd9d1-1648-4a43-860a-18da8a1276eb"
      },
      "execution_count": null,
      "outputs": [
        {
          "output_type": "execute_result",
          "data": {
            "text/plain": [
              "array([[  1,   3,   5],\n",
              "       [  2,   5,   7],\n",
              "       [200, 300, 400]])"
            ]
          },
          "metadata": {},
          "execution_count": 8
        }
      ]
    },
    {
      "cell_type": "markdown",
      "source": [
        "**Note**: By default, the `np.sort()` functions sorts along the last axis."
      ],
      "metadata": {
        "id": "IWt-hEJ3GM8a"
      }
    },
    {
      "cell_type": "code",
      "execution_count": null,
      "metadata": {
        "id": "sDLamQo2svND"
      },
      "outputs": [],
      "source": [
        "a = np.array([[23,4,43], [12, 89, 3], [69, 420, 0]])"
      ]
    },
    {
      "cell_type": "code",
      "execution_count": null,
      "metadata": {
        "colab": {
          "base_uri": "https://localhost:8080/"
        },
        "id": "50qiePMYs1vi",
        "outputId": "4cd177af-872a-4f26-d7c4-b4c1a349a344"
      },
      "outputs": [
        {
          "output_type": "execute_result",
          "data": {
            "text/plain": [
              "array([[  4,  23,  43],\n",
              "       [  3,  12,  89],\n",
              "       [  0,  69, 420]])"
            ]
          },
          "metadata": {},
          "execution_count": 10
        }
      ],
      "source": [
        "np.sort(a) # default axis = -1 (last axis)"
      ]
    },
    {
      "cell_type": "markdown",
      "source": [
        "---"
      ],
      "metadata": {
        "id": "s3X1Vd61ECa1"
      }
    },
    {
      "cell_type": "markdown",
      "source": [
        "## **Element-Wise Multiplication**\n",
        "\n",
        "Element-wise multiplication in NumPy involves multiplying corresponding elements of two arrays with the same shape to produce a new array where each element is the product of the corresponding elements from the input arrays."
      ],
      "metadata": {
        "id": "9QbKx3uJKzPG"
      }
    },
    {
      "cell_type": "code",
      "source": [
        "a = np.arange(1, 6)\n",
        "a"
      ],
      "metadata": {
        "id": "NrshPFhfKeuf",
        "colab": {
          "base_uri": "https://localhost:8080/"
        },
        "outputId": "4bae6a21-49ab-443c-d262-04254b3a7587"
      },
      "execution_count": null,
      "outputs": [
        {
          "output_type": "execute_result",
          "data": {
            "text/plain": [
              "array([1, 2, 3, 4, 5])"
            ]
          },
          "metadata": {},
          "execution_count": 11
        }
      ]
    },
    {
      "cell_type": "code",
      "source": [
        "a * 5"
      ],
      "metadata": {
        "colab": {
          "base_uri": "https://localhost:8080/"
        },
        "id": "Qw1_cYgaKpEu",
        "outputId": "f44cf9e7-6d19-402c-8914-0a650cf08c9c"
      },
      "execution_count": null,
      "outputs": [
        {
          "output_type": "execute_result",
          "data": {
            "text/plain": [
              "array([ 5, 10, 15, 20, 25])"
            ]
          },
          "metadata": {},
          "execution_count": 12
        }
      ]
    },
    {
      "cell_type": "code",
      "source": [
        "b = np.arange(6, 11)\n",
        "b"
      ],
      "metadata": {
        "colab": {
          "base_uri": "https://localhost:8080/"
        },
        "id": "6ER0quTLKvO7",
        "outputId": "bd3870bd-54b5-4e96-8f8b-bae5439b6135"
      },
      "execution_count": null,
      "outputs": [
        {
          "output_type": "execute_result",
          "data": {
            "text/plain": [
              "array([ 6,  7,  8,  9, 10])"
            ]
          },
          "metadata": {},
          "execution_count": 13
        }
      ]
    },
    {
      "cell_type": "code",
      "source": [
        "a * b"
      ],
      "metadata": {
        "colab": {
          "base_uri": "https://localhost:8080/"
        },
        "id": "Pz5cMkxWLqVU",
        "outputId": "748d3889-ccab-4d5b-de84-a98e01fb9d99"
      },
      "execution_count": null,
      "outputs": [
        {
          "output_type": "execute_result",
          "data": {
            "text/plain": [
              "array([ 6, 14, 24, 36, 50])"
            ]
          },
          "metadata": {},
          "execution_count": 14
        }
      ]
    },
    {
      "cell_type": "markdown",
      "source": [
        "Both arrays should have the same shape."
      ],
      "metadata": {
        "id": "ICaPeUjVEgTA"
      }
    },
    {
      "cell_type": "code",
      "source": [
        "c = np.array([1, 2, 3])"
      ],
      "metadata": {
        "id": "Pcb8lQhI5ozK"
      },
      "execution_count": null,
      "outputs": []
    },
    {
      "cell_type": "code",
      "source": [
        "a * c"
      ],
      "metadata": {
        "colab": {
          "base_uri": "https://localhost:8080/",
          "height": 179
        },
        "id": "GiiN49Vc5rPZ",
        "outputId": "afc0467c-c3c1-4306-aa96-c40bae5aeb94"
      },
      "execution_count": null,
      "outputs": [
        {
          "output_type": "error",
          "ename": "ValueError",
          "evalue": "operands could not be broadcast together with shapes (5,) (3,) ",
          "traceback": [
            "\u001b[0;31m---------------------------------------------------------------------------\u001b[0m",
            "\u001b[0;31mValueError\u001b[0m                                Traceback (most recent call last)",
            "\u001b[0;32m<ipython-input-17-3f6f667472ca>\u001b[0m in \u001b[0;36m<cell line: 1>\u001b[0;34m()\u001b[0m\n\u001b[0;32m----> 1\u001b[0;31m \u001b[0ma\u001b[0m \u001b[0;34m*\u001b[0m \u001b[0mc\u001b[0m\u001b[0;34m\u001b[0m\u001b[0;34m\u001b[0m\u001b[0m\n\u001b[0m",
            "\u001b[0;31mValueError\u001b[0m: operands could not be broadcast together with shapes (5,) (3,) "
          ]
        }
      ]
    },
    {
      "cell_type": "code",
      "source": [
        "d = np.arange(12).reshape(3, 4)\n",
        "e = np.arange(13, 25).reshape(3, 4)"
      ],
      "metadata": {
        "id": "3w3PAxow5tzt"
      },
      "execution_count": null,
      "outputs": []
    },
    {
      "cell_type": "code",
      "source": [
        "print(d)\n",
        "print(e)"
      ],
      "metadata": {
        "colab": {
          "base_uri": "https://localhost:8080/"
        },
        "id": "ZZjT2qkD5viK",
        "outputId": "d061a107-6c19-4bdf-fdff-08f49adfcf37"
      },
      "execution_count": null,
      "outputs": [
        {
          "output_type": "stream",
          "name": "stdout",
          "text": [
            "[[ 0  1  2  3]\n",
            " [ 4  5  6  7]\n",
            " [ 8  9 10 11]]\n",
            "[[13 14 15 16]\n",
            " [17 18 19 20]\n",
            " [21 22 23 24]]\n"
          ]
        }
      ]
    },
    {
      "cell_type": "code",
      "source": [
        "d * e"
      ],
      "metadata": {
        "colab": {
          "base_uri": "https://localhost:8080/"
        },
        "id": "Ilm_EJ8L5yme",
        "outputId": "13188b2f-f8c5-4ba8-a777-82be28118ba1"
      },
      "execution_count": null,
      "outputs": [
        {
          "output_type": "execute_result",
          "data": {
            "text/plain": [
              "array([[  0,  14,  30,  48],\n",
              "       [ 68,  90, 114, 140],\n",
              "       [168, 198, 230, 264]])"
            ]
          },
          "metadata": {},
          "execution_count": 20
        }
      ]
    },
    {
      "cell_type": "code",
      "source": [
        "d * 5"
      ],
      "metadata": {
        "colab": {
          "base_uri": "https://localhost:8080/"
        },
        "id": "CCYMeAnA5z77",
        "outputId": "7700de34-f8f7-4b8c-de22-ce114d60a196"
      },
      "execution_count": null,
      "outputs": [
        {
          "output_type": "execute_result",
          "data": {
            "text/plain": [
              "array([[ 0,  5, 10, 15],\n",
              "       [20, 25, 30, 35],\n",
              "       [40, 45, 50, 55]])"
            ]
          },
          "metadata": {},
          "execution_count": 21
        }
      ]
    },
    {
      "cell_type": "markdown",
      "source": [
        "**Takeaway:**\n",
        "\n",
        "- Array * Number -> WORKS\n",
        "- Array * Array (same shape) -> WORKS\n",
        "- Array * Array (different shape) -> DOES NOT WORK"
      ],
      "metadata": {
        "id": "DL9f29u252MO"
      }
    },
    {
      "cell_type": "markdown",
      "source": [
        "---"
      ],
      "metadata": {
        "id": "l08yMuKuENwn"
      }
    },
    {
      "cell_type": "markdown",
      "source": [
        "## **Matrix Multiplication**\n",
        "\n",
        "**Rule:** Number of columns of the first matrix should be equal to number of rows of the second matrix.\n",
        "\n",
        "- (A,B) * (B,C) -> (A,C)\n",
        "- (3,4) * (4,3) -> (3,3)\n",
        "\n",
        "Visual Demo: https://www.geogebra.org/m/ETHXK756"
      ],
      "metadata": {
        "id": "ocyIHMjIL-uC"
      }
    },
    {
      "cell_type": "code",
      "source": [
        "a = np.arange(1,13).reshape((3,4))\n",
        "c = np.arange(2,14).reshape((4,3))"
      ],
      "metadata": {
        "id": "triLheBILQvd"
      },
      "execution_count": null,
      "outputs": []
    },
    {
      "cell_type": "code",
      "source": [
        "a.shape, c.shape"
      ],
      "metadata": {
        "colab": {
          "base_uri": "https://localhost:8080/"
        },
        "id": "c3Gx9A4ejZ30",
        "outputId": "cb85641b-b609-46a1-cfd7-c8e75813216a"
      },
      "execution_count": null,
      "outputs": [
        {
          "output_type": "execute_result",
          "data": {
            "text/plain": [
              "((3, 4), (4, 3))"
            ]
          },
          "metadata": {},
          "execution_count": 23
        }
      ]
    },
    {
      "cell_type": "markdown",
      "source": [
        "##### `a` is of shape (3,4) and `c` is of shape (4,3). The output will be of shape (3,3)."
      ],
      "metadata": {
        "id": "ageooD6HNAms"
      }
    },
    {
      "cell_type": "code",
      "source": [
        "# Using np.dot\n",
        "np.dot(a,c)"
      ],
      "metadata": {
        "colab": {
          "base_uri": "https://localhost:8080/"
        },
        "id": "uoWGXIw9LbMa",
        "outputId": "a7540d44-76eb-4695-bfc1-b3f34797d17c"
      },
      "execution_count": null,
      "outputs": [
        {
          "output_type": "execute_result",
          "data": {
            "text/plain": [
              "array([[ 80,  90, 100],\n",
              "       [184, 210, 236],\n",
              "       [288, 330, 372]])"
            ]
          },
          "metadata": {},
          "execution_count": 24
        }
      ]
    },
    {
      "cell_type": "code",
      "source": [
        "# Using np.matmul\n",
        "np.matmul(a,c)"
      ],
      "metadata": {
        "colab": {
          "base_uri": "https://localhost:8080/"
        },
        "id": "jHyd3mMhNh3e",
        "outputId": "5752b0f6-0ba6-4494-dde7-fec6bac4e3bf"
      },
      "execution_count": null,
      "outputs": [
        {
          "output_type": "execute_result",
          "data": {
            "text/plain": [
              "array([[ 80,  90, 100],\n",
              "       [184, 210, 236],\n",
              "       [288, 330, 372]])"
            ]
          },
          "metadata": {},
          "execution_count": 25
        }
      ]
    },
    {
      "cell_type": "code",
      "source": [
        "# Using @ operator\n",
        "a@c"
      ],
      "metadata": {
        "colab": {
          "base_uri": "https://localhost:8080/"
        },
        "id": "IWa6beM0LiNp",
        "outputId": "5c64d40f-84a8-4105-fe54-009143fdc672"
      },
      "execution_count": null,
      "outputs": [
        {
          "output_type": "execute_result",
          "data": {
            "text/plain": [
              "array([[ 80,  90, 100],\n",
              "       [184, 210, 236],\n",
              "       [288, 330, 372]])"
            ]
          },
          "metadata": {},
          "execution_count": 26
        }
      ]
    },
    {
      "cell_type": "markdown",
      "source": [
        "---"
      ],
      "metadata": {
        "id": "hAqOcqNeFYCB"
      }
    },
    {
      "cell_type": "code",
      "source": [
        "a@5"
      ],
      "metadata": {
        "colab": {
          "base_uri": "https://localhost:8080/",
          "height": 179
        },
        "id": "fDa13H1F6OIx",
        "outputId": "4b5836d0-d528-4ee7-aaf0-cd8aa665bb49"
      },
      "execution_count": null,
      "outputs": [
        {
          "output_type": "error",
          "ename": "ValueError",
          "evalue": "matmul: Input operand 1 does not have enough dimensions (has 0, gufunc core with signature (n?,k),(k,m?)->(n?,m?) requires 1)",
          "traceback": [
            "\u001b[0;31m---------------------------------------------------------------------------\u001b[0m",
            "\u001b[0;31mValueError\u001b[0m                                Traceback (most recent call last)",
            "\u001b[0;32m<ipython-input-27-16572c98568d>\u001b[0m in \u001b[0;36m<cell line: 1>\u001b[0;34m()\u001b[0m\n\u001b[0;32m----> 1\u001b[0;31m \u001b[0ma\u001b[0m\u001b[0;34m@\u001b[0m\u001b[0;36m5\u001b[0m\u001b[0;34m\u001b[0m\u001b[0;34m\u001b[0m\u001b[0m\n\u001b[0m",
            "\u001b[0;31mValueError\u001b[0m: matmul: Input operand 1 does not have enough dimensions (has 0, gufunc core with signature (n?,k),(k,m?)->(n?,m?) requires 1)"
          ]
        }
      ]
    },
    {
      "cell_type": "code",
      "source": [
        "np.matmul(a, 5)"
      ],
      "metadata": {
        "colab": {
          "base_uri": "https://localhost:8080/",
          "height": 179
        },
        "id": "KVQLqvoY6Rv-",
        "outputId": "3a22a24c-3cbe-4440-8dfa-38d49054182d"
      },
      "execution_count": null,
      "outputs": [
        {
          "output_type": "error",
          "ename": "ValueError",
          "evalue": "matmul: Input operand 1 does not have enough dimensions (has 0, gufunc core with signature (n?,k),(k,m?)->(n?,m?) requires 1)",
          "traceback": [
            "\u001b[0;31m---------------------------------------------------------------------------\u001b[0m",
            "\u001b[0;31mValueError\u001b[0m                                Traceback (most recent call last)",
            "\u001b[0;32m<ipython-input-28-875bf147741b>\u001b[0m in \u001b[0;36m<cell line: 1>\u001b[0;34m()\u001b[0m\n\u001b[0;32m----> 1\u001b[0;31m \u001b[0mnp\u001b[0m\u001b[0;34m.\u001b[0m\u001b[0mmatmul\u001b[0m\u001b[0;34m(\u001b[0m\u001b[0ma\u001b[0m\u001b[0;34m,\u001b[0m \u001b[0;36m5\u001b[0m\u001b[0;34m)\u001b[0m\u001b[0;34m\u001b[0m\u001b[0;34m\u001b[0m\u001b[0m\n\u001b[0m",
            "\u001b[0;31mValueError\u001b[0m: matmul: Input operand 1 does not have enough dimensions (has 0, gufunc core with signature (n?,k),(k,m?)->(n?,m?) requires 1)"
          ]
        }
      ]
    },
    {
      "cell_type": "code",
      "source": [
        "np.dot(a, 5)"
      ],
      "metadata": {
        "colab": {
          "base_uri": "https://localhost:8080/"
        },
        "id": "cxXkSyod6WLE",
        "outputId": "9331ce09-c315-4c83-897a-82473381c3ee"
      },
      "execution_count": null,
      "outputs": [
        {
          "output_type": "execute_result",
          "data": {
            "text/plain": [
              "array([[ 5, 10, 15, 20],\n",
              "       [25, 30, 35, 40],\n",
              "       [45, 50, 55, 60]])"
            ]
          },
          "metadata": {},
          "execution_count": 29
        }
      ]
    },
    {
      "cell_type": "markdown",
      "source": [
        "**Important:**\n",
        "\n",
        "- `dot()` function supports the vector multiplication with a scalar value, which is not possible with `matmul()`.\n",
        "- `Vector * Vector` will work for `matmul()` but `Vector * Scalar` won't."
      ],
      "metadata": {
        "id": "tAan0L08ie_j"
      }
    },
    {
      "cell_type": "markdown",
      "source": [
        "---"
      ],
      "metadata": {
        "id": "cIfmIBKgWa2u"
      }
    },
    {
      "cell_type": "markdown",
      "source": [
        "## **Vectorization**\n",
        "\n",
        "Vectorization in NumPy refers to performing operations on entire arrays or array elements simultaneously, which is significantly faster and more efficient than using explicit loops."
      ],
      "metadata": {
        "id": "x8teaudLR7yL"
      }
    },
    {
      "cell_type": "code",
      "source": [
        "a = np.arange(10)\n",
        "a"
      ],
      "metadata": {
        "colab": {
          "base_uri": "https://localhost:8080/"
        },
        "id": "x-gT1wqBQgLX",
        "outputId": "8b639419-5c7b-4f93-9930-399eb9511f90"
      },
      "execution_count": null,
      "outputs": [
        {
          "output_type": "execute_result",
          "data": {
            "text/plain": [
              "array([0, 1, 2, 3, 4, 5, 6, 7, 8, 9])"
            ]
          },
          "metadata": {},
          "execution_count": 30
        }
      ]
    },
    {
      "cell_type": "markdown",
      "source": [
        "**Note:**\n",
        "- 1d np array --> vector\n",
        "- 2d np array --> matrix\n",
        "- 3d onwards --> tensors"
      ],
      "metadata": {
        "id": "bgzV0Cr31Lo-"
      }
    },
    {
      "cell_type": "code",
      "source": [
        "def random_operation(x):\n",
        "    if x % 2 == 0:\n",
        "        x += 2\n",
        "    else:\n",
        "        x -= 2\n",
        "\n",
        "    return x"
      ],
      "metadata": {
        "id": "enWwzxtf6kdR"
      },
      "execution_count": null,
      "outputs": []
    },
    {
      "cell_type": "code",
      "source": [
        "random_operation(a)"
      ],
      "metadata": {
        "colab": {
          "base_uri": "https://localhost:8080/",
          "height": 304
        },
        "id": "TRxHgVLK6mSV",
        "outputId": "d364dcb6-7a17-4c06-95a5-0b51e32143a6"
      },
      "execution_count": null,
      "outputs": [
        {
          "output_type": "error",
          "ename": "ValueError",
          "evalue": "The truth value of an array with more than one element is ambiguous. Use a.any() or a.all()",
          "traceback": [
            "\u001b[0;31m---------------------------------------------------------------------------\u001b[0m",
            "\u001b[0;31mValueError\u001b[0m                                Traceback (most recent call last)",
            "\u001b[0;32m<ipython-input-32-83503709589d>\u001b[0m in \u001b[0;36m<cell line: 1>\u001b[0;34m()\u001b[0m\n\u001b[0;32m----> 1\u001b[0;31m \u001b[0mrandom_operation\u001b[0m\u001b[0;34m(\u001b[0m\u001b[0ma\u001b[0m\u001b[0;34m)\u001b[0m\u001b[0;34m\u001b[0m\u001b[0;34m\u001b[0m\u001b[0m\n\u001b[0m",
            "\u001b[0;32m<ipython-input-31-1b21f73a20a9>\u001b[0m in \u001b[0;36mrandom_operation\u001b[0;34m(x)\u001b[0m\n\u001b[1;32m      1\u001b[0m \u001b[0;32mdef\u001b[0m \u001b[0mrandom_operation\u001b[0m\u001b[0;34m(\u001b[0m\u001b[0mx\u001b[0m\u001b[0;34m)\u001b[0m\u001b[0;34m:\u001b[0m\u001b[0;34m\u001b[0m\u001b[0;34m\u001b[0m\u001b[0m\n\u001b[0;32m----> 2\u001b[0;31m     \u001b[0;32mif\u001b[0m \u001b[0mx\u001b[0m \u001b[0;34m%\u001b[0m \u001b[0;36m2\u001b[0m \u001b[0;34m==\u001b[0m \u001b[0;36m0\u001b[0m\u001b[0;34m:\u001b[0m\u001b[0;34m\u001b[0m\u001b[0;34m\u001b[0m\u001b[0m\n\u001b[0m\u001b[1;32m      3\u001b[0m         \u001b[0mx\u001b[0m \u001b[0;34m+=\u001b[0m \u001b[0;36m2\u001b[0m\u001b[0;34m\u001b[0m\u001b[0;34m\u001b[0m\u001b[0m\n\u001b[1;32m      4\u001b[0m     \u001b[0;32melse\u001b[0m\u001b[0;34m:\u001b[0m\u001b[0;34m\u001b[0m\u001b[0;34m\u001b[0m\u001b[0m\n\u001b[1;32m      5\u001b[0m         \u001b[0mx\u001b[0m \u001b[0;34m-=\u001b[0m \u001b[0;36m2\u001b[0m\u001b[0;34m\u001b[0m\u001b[0;34m\u001b[0m\u001b[0m\n",
            "\u001b[0;31mValueError\u001b[0m: The truth value of an array with more than one element is ambiguous. Use a.any() or a.all()"
          ]
        }
      ]
    },
    {
      "cell_type": "code",
      "source": [
        "cool_operation = np.vectorize(random_operation)"
      ],
      "metadata": {
        "id": "PRi1ECg76pjP"
      },
      "execution_count": null,
      "outputs": []
    },
    {
      "cell_type": "code",
      "source": [
        "type(cool_operation)"
      ],
      "metadata": {
        "colab": {
          "base_uri": "https://localhost:8080/",
          "height": 179
        },
        "id": "e9bEfJy96rf8",
        "outputId": "6e7cc74b-7153-49dc-d59e-4bf409242704"
      },
      "execution_count": null,
      "outputs": [
        {
          "output_type": "error",
          "ename": "NameError",
          "evalue": "name 'cool_operation' is not defined",
          "traceback": [
            "\u001b[0;31m---------------------------------------------------------------------------\u001b[0m",
            "\u001b[0;31mNameError\u001b[0m                                 Traceback (most recent call last)",
            "\u001b[0;32m<ipython-input-33-6717d289c693>\u001b[0m in \u001b[0;36m<cell line: 1>\u001b[0;34m()\u001b[0m\n\u001b[0;32m----> 1\u001b[0;31m \u001b[0mtype\u001b[0m\u001b[0;34m(\u001b[0m\u001b[0mcool_operation\u001b[0m\u001b[0;34m)\u001b[0m\u001b[0;34m\u001b[0m\u001b[0;34m\u001b[0m\u001b[0m\n\u001b[0m",
            "\u001b[0;31mNameError\u001b[0m: name 'cool_operation' is not defined"
          ]
        }
      ]
    },
    {
      "cell_type": "markdown",
      "source": [
        "#### `np.vectorize()`\n",
        "\n",
        "- It is a generalised function for vectorization.\n",
        "- It takes the function and returns an object (which acts like function but can take an array as input and perform the operations)."
      ],
      "metadata": {
        "id": "zIVoBGVtSSGZ"
      }
    },
    {
      "cell_type": "code",
      "source": [
        "cool_operation(a)"
      ],
      "metadata": {
        "id": "cequl6vV6yCs"
      },
      "execution_count": null,
      "outputs": []
    },
    {
      "cell_type": "markdown",
      "source": [
        "---"
      ],
      "metadata": {
        "id": "4FXcVF7-X21Z"
      }
    },
    {
      "cell_type": "markdown",
      "source": [
        "## **Broadcasting**\n",
        "\n",
        "Broadcasting in NumPy is the automatic and implicit extension of array dimensions to enable element-wise operations between arrays with different shapes."
      ],
      "metadata": {
        "id": "uH4woAtkUjpf"
      }
    },
    {
      "cell_type": "markdown",
      "source": [
        "![bro.jpg](https://d2beiqkhq929f0.cloudfront.net/public_assets/assets/000/047/364/original/download.jpeg?1694345633)"
      ],
      "metadata": {
        "id": "9tw-ZHqBgMfh"
      }
    },
    {
      "cell_type": "markdown",
      "source": [
        "---"
      ],
      "metadata": {
        "id": "ptHmkM-CZDN8"
      }
    },
    {
      "cell_type": "markdown",
      "source": [
        "#### **Case 1:** If dimension in both matrix is equal, element-wise addition will be done."
      ],
      "metadata": {
        "id": "tGTWXdSegmQf"
      }
    },
    {
      "cell_type": "code",
      "source": [
        "a = np.tile(np.arange(0,40,10), (3,1))\n",
        "a"
      ],
      "metadata": {
        "colab": {
          "base_uri": "https://localhost:8080/"
        },
        "id": "2F9ZexFmg-C5",
        "outputId": "15a9d868-e546-406a-f630-d5b22dc49990"
      },
      "execution_count": null,
      "outputs": [
        {
          "output_type": "execute_result",
          "data": {
            "text/plain": [
              "array([[ 0, 10, 20, 30],\n",
              "       [ 0, 10, 20, 30],\n",
              "       [ 0, 10, 20, 30]])"
            ]
          },
          "metadata": {},
          "execution_count": 34
        }
      ]
    },
    {
      "cell_type": "markdown",
      "source": [
        "**Note:**\n",
        "\n",
        "* `numpy.tile(array, reps)` constructs an array by repeating A the number of times given by reps along each dimension.\n",
        "* `np.tile(array, (repetition_rows, repetition_cols))`\n"
      ],
      "metadata": {
        "id": "kcGU1BAvg9PW"
      }
    },
    {
      "cell_type": "code",
      "source": [
        "a=a.T\n",
        "a"
      ],
      "metadata": {
        "colab": {
          "base_uri": "https://localhost:8080/"
        },
        "id": "6bXgY5u4hNj9",
        "outputId": "9999adfc-202c-4a8d-c0b7-120a8d38cf72"
      },
      "execution_count": null,
      "outputs": [
        {
          "output_type": "execute_result",
          "data": {
            "text/plain": [
              "array([[ 0,  0,  0],\n",
              "       [10, 10, 10],\n",
              "       [20, 20, 20],\n",
              "       [30, 30, 30]])"
            ]
          },
          "metadata": {},
          "execution_count": 35
        }
      ]
    },
    {
      "cell_type": "code",
      "source": [
        "b = np.tile(np.arange(0,3), (4,1))\n",
        "b"
      ],
      "metadata": {
        "colab": {
          "base_uri": "https://localhost:8080/"
        },
        "id": "LEE7U-RJhQxU",
        "outputId": "afed99de-3d4c-4b59-bb63-766eb02f730a"
      },
      "execution_count": null,
      "outputs": [
        {
          "output_type": "execute_result",
          "data": {
            "text/plain": [
              "array([[0, 1, 2],\n",
              "       [0, 1, 2],\n",
              "       [0, 1, 2],\n",
              "       [0, 1, 2]])"
            ]
          },
          "metadata": {},
          "execution_count": 36
        }
      ]
    },
    {
      "cell_type": "code",
      "source": [
        "print(a.shape, b.shape)"
      ],
      "metadata": {
        "colab": {
          "base_uri": "https://localhost:8080/"
        },
        "id": "Z2HA1zwQiAJr",
        "outputId": "900615c5-e84c-47d1-953c-29a32b3e0998"
      },
      "execution_count": null,
      "outputs": [
        {
          "output_type": "stream",
          "name": "stdout",
          "text": [
            "(4, 3) (4, 3)\n"
          ]
        }
      ]
    },
    {
      "cell_type": "markdown",
      "source": [
        "Since a and b have the same shape, they can be added without any issues."
      ],
      "metadata": {
        "id": "ND4gES3jYdxl"
      }
    },
    {
      "cell_type": "code",
      "source": [
        "a+b"
      ],
      "metadata": {
        "colab": {
          "base_uri": "https://localhost:8080/"
        },
        "id": "hMVzueZvhdUJ",
        "outputId": "a970222c-81eb-4dea-bd94-0e08442042ee"
      },
      "execution_count": null,
      "outputs": [
        {
          "output_type": "execute_result",
          "data": {
            "text/plain": [
              "array([[ 0,  1,  2],\n",
              "       [10, 11, 12],\n",
              "       [20, 21, 22],\n",
              "       [30, 31, 32]])"
            ]
          },
          "metadata": {},
          "execution_count": 38
        }
      ]
    },
    {
      "cell_type": "markdown",
      "source": [
        "---"
      ],
      "metadata": {
        "id": "DkqM4BLnZEuR"
      }
    },
    {
      "cell_type": "markdown",
      "source": [
        "#### **Case 2:** Right array should be of 1-D and number of columns should be same of both the arrays and it will automatically do n-tile."
      ],
      "metadata": {
        "id": "xBBX6XmkiF2w"
      }
    },
    {
      "cell_type": "code",
      "source": [
        "a"
      ],
      "metadata": {
        "colab": {
          "base_uri": "https://localhost:8080/"
        },
        "id": "KOoKBgFphdqi",
        "outputId": "23f0d240-95f4-4e53-dedc-c16259bad60c"
      },
      "execution_count": null,
      "outputs": [
        {
          "output_type": "execute_result",
          "data": {
            "text/plain": [
              "array([[ 0,  0,  0],\n",
              "       [10, 10, 10],\n",
              "       [20, 20, 20],\n",
              "       [30, 30, 30]])"
            ]
          },
          "metadata": {},
          "execution_count": 39
        }
      ]
    },
    {
      "cell_type": "code",
      "source": [
        "c = np.array([0,1,2])\n",
        "c"
      ],
      "metadata": {
        "colab": {
          "base_uri": "https://localhost:8080/"
        },
        "id": "krGXfJUsiZet",
        "outputId": "232b20c6-9fa6-46d1-f437-273f5a206445"
      },
      "execution_count": null,
      "outputs": [
        {
          "output_type": "execute_result",
          "data": {
            "text/plain": [
              "array([0, 1, 2])"
            ]
          },
          "metadata": {},
          "execution_count": 40
        }
      ]
    },
    {
      "cell_type": "code",
      "source": [
        "print(a.shape, c.shape)"
      ],
      "metadata": {
        "colab": {
          "base_uri": "https://localhost:8080/"
        },
        "id": "jKKC4Rd6h79_",
        "outputId": "e45ff261-1f58-436c-a40a-af2956868abb"
      },
      "execution_count": null,
      "outputs": [
        {
          "output_type": "stream",
          "name": "stdout",
          "text": [
            "(4, 3) (3,)\n"
          ]
        }
      ]
    },
    {
      "cell_type": "code",
      "source": [
        "a + c"
      ],
      "metadata": {
        "colab": {
          "base_uri": "https://localhost:8080/"
        },
        "id": "LavZZ17ficAj",
        "outputId": "1b14fff9-81ca-4aba-96ba-d0fdcdabbbe1"
      },
      "execution_count": null,
      "outputs": [
        {
          "output_type": "execute_result",
          "data": {
            "text/plain": [
              "array([[ 0,  1,  2],\n",
              "       [10, 11, 12],\n",
              "       [20, 21, 22],\n",
              "       [30, 31, 32]])"
            ]
          },
          "metadata": {},
          "execution_count": 42
        }
      ]
    },
    {
      "cell_type": "markdown",
      "source": [
        "- c was broadcasted along rows (vertically)\n",
        "- so that a and c can be made compatible"
      ],
      "metadata": {
        "id": "aC5pv6_fZOM8"
      }
    },
    {
      "cell_type": "markdown",
      "source": [
        "---"
      ],
      "metadata": {
        "id": "T6dcB7I2ZMIO"
      }
    },
    {
      "cell_type": "markdown",
      "source": [
        "#### **Case 3:** If the left array is column matrix (must have only 1 column) and right array is row matrix, then it will do the n-tile such that element wise addition is possible."
      ],
      "metadata": {
        "id": "0KggK5dYimXn"
      }
    },
    {
      "cell_type": "code",
      "source": [
        "d = np.array([0,10,20,30]).reshape(4,1)\n",
        "d"
      ],
      "metadata": {
        "id": "FAbk0MwKDXgO",
        "colab": {
          "base_uri": "https://localhost:8080/"
        },
        "outputId": "6898f36d-e953-4e50-f2c0-a3c6a7a509be"
      },
      "execution_count": null,
      "outputs": [
        {
          "output_type": "execute_result",
          "data": {
            "text/plain": [
              "array([[ 0],\n",
              "       [10],\n",
              "       [20],\n",
              "       [30]])"
            ]
          },
          "metadata": {},
          "execution_count": 43
        }
      ]
    },
    {
      "cell_type": "code",
      "source": [
        "c = np.array([0,1,2])\n",
        "c"
      ],
      "metadata": {
        "colab": {
          "base_uri": "https://localhost:8080/"
        },
        "id": "hJ2EP73r7-IT",
        "outputId": "6e6cec5a-ea79-422a-d724-fa977fea842e"
      },
      "execution_count": null,
      "outputs": [
        {
          "output_type": "execute_result",
          "data": {
            "text/plain": [
              "array([0, 1, 2])"
            ]
          },
          "metadata": {},
          "execution_count": 44
        }
      ]
    },
    {
      "cell_type": "code",
      "source": [
        "print(d.shape, c.shape)"
      ],
      "metadata": {
        "colab": {
          "base_uri": "https://localhost:8080/"
        },
        "id": "-28X0IHgiok7",
        "outputId": "ec1b281f-9887-418f-f94e-3021e694b738"
      },
      "execution_count": null,
      "outputs": [
        {
          "output_type": "stream",
          "name": "stdout",
          "text": [
            "(4, 1) (3,)\n"
          ]
        }
      ]
    },
    {
      "cell_type": "code",
      "source": [
        "d + c"
      ],
      "metadata": {
        "colab": {
          "base_uri": "https://localhost:8080/"
        },
        "id": "lU55ek9oicut",
        "outputId": "17f07c79-ffc9-4eec-f485-40536687d789"
      },
      "execution_count": null,
      "outputs": [
        {
          "output_type": "execute_result",
          "data": {
            "text/plain": [
              "array([[ 0,  1,  2],\n",
              "       [10, 11, 12],\n",
              "       [20, 21, 22],\n",
              "       [30, 31, 32]])"
            ]
          },
          "metadata": {},
          "execution_count": 46
        }
      ]
    },
    {
      "cell_type": "markdown",
      "source": [
        "- d was stacked (broadcasted) along columns (horizontally)\n",
        "- c was stacked (broadcasted) along rows (vertically)"
      ],
      "metadata": {
        "id": "0gpqOuOKZVfK"
      }
    },
    {
      "cell_type": "markdown",
      "source": [
        "---"
      ],
      "metadata": {
        "id": "HWap4Le2Zc_t"
      }
    },
    {
      "cell_type": "markdown",
      "source": [
        "**Will broadcasting work in this case?**"
      ],
      "metadata": {
        "id": "0KUAL-YojgXX"
      }
    },
    {
      "cell_type": "code",
      "source": [
        "a = np.arange(8).reshape(2,4)\n",
        "a"
      ],
      "metadata": {
        "colab": {
          "base_uri": "https://localhost:8080/"
        },
        "id": "CfLFLaLbi_jj",
        "outputId": "b8a7b28d-9f8c-4526-b162-045118b3ec6d"
      },
      "execution_count": null,
      "outputs": [
        {
          "output_type": "execute_result",
          "data": {
            "text/plain": [
              "array([[0, 1, 2, 3],\n",
              "       [4, 5, 6, 7]])"
            ]
          },
          "metadata": {},
          "execution_count": 47
        }
      ]
    },
    {
      "cell_type": "code",
      "source": [
        "b = np.arange(16).reshape(4,4)\n",
        "b"
      ],
      "metadata": {
        "colab": {
          "base_uri": "https://localhost:8080/"
        },
        "id": "dD4BNtCxjc3M",
        "outputId": "badc5947-87e1-4b5e-de1a-9330b479869d"
      },
      "execution_count": null,
      "outputs": [
        {
          "output_type": "execute_result",
          "data": {
            "text/plain": [
              "array([[ 0,  1,  2,  3],\n",
              "       [ 4,  5,  6,  7],\n",
              "       [ 8,  9, 10, 11],\n",
              "       [12, 13, 14, 15]])"
            ]
          },
          "metadata": {},
          "execution_count": 48
        }
      ]
    },
    {
      "cell_type": "code",
      "source": [
        "a+b"
      ],
      "metadata": {
        "colab": {
          "base_uri": "https://localhost:8080/",
          "height": 179
        },
        "id": "5ZPQ5gvTje17",
        "outputId": "701faa56-3ddf-4f57-f989-5b83fc399091"
      },
      "execution_count": null,
      "outputs": [
        {
          "output_type": "error",
          "ename": "ValueError",
          "evalue": "operands could not be broadcast together with shapes (2,4) (4,4) ",
          "traceback": [
            "\u001b[0;31m---------------------------------------------------------------------------\u001b[0m",
            "\u001b[0;31mValueError\u001b[0m                                Traceback (most recent call last)",
            "\u001b[0;32m<ipython-input-49-ca730b97bf8a>\u001b[0m in \u001b[0;36m<cell line: 1>\u001b[0;34m()\u001b[0m\n\u001b[0;32m----> 1\u001b[0;31m \u001b[0ma\u001b[0m\u001b[0;34m+\u001b[0m\u001b[0mb\u001b[0m\u001b[0;34m\u001b[0m\u001b[0;34m\u001b[0m\u001b[0m\n\u001b[0m",
            "\u001b[0;31mValueError\u001b[0m: operands could not be broadcast together with shapes (2,4) (4,4) "
          ]
        }
      ]
    },
    {
      "cell_type": "markdown",
      "source": [
        "#### Broadcasting in 2D Arrays\n",
        "\n",
        "- A + A (same shape)-> Works\n",
        "- A + A (1D) -> Works\n",
        "- A + number -> Works\n",
        "- A + A (different shape but still 2D) -> DOES NOT WORK"
      ],
      "metadata": {
        "id": "cLyev--F8ILT"
      }
    },
    {
      "cell_type": "markdown",
      "source": [
        "**Is broadcasting possible in this case?**"
      ],
      "metadata": {
        "id": "VXLdr-xokGnC"
      }
    },
    {
      "cell_type": "code",
      "source": [
        "A = np.arange(1,10).reshape(3,3)\n",
        "A"
      ],
      "metadata": {
        "colab": {
          "base_uri": "https://localhost:8080/"
        },
        "id": "NEF8O7Y_D1sy",
        "outputId": "fcf7f44c-7a3b-4bf5-e588-a03984677539"
      },
      "execution_count": null,
      "outputs": [
        {
          "output_type": "execute_result",
          "data": {
            "text/plain": [
              "array([[1, 2, 3],\n",
              "       [4, 5, 6],\n",
              "       [7, 8, 9]])"
            ]
          },
          "metadata": {},
          "execution_count": 50
        }
      ]
    },
    {
      "cell_type": "code",
      "source": [
        "B = np.array([-1, 0, 1])\n",
        "B"
      ],
      "metadata": {
        "colab": {
          "base_uri": "https://localhost:8080/"
        },
        "id": "H0aIJ5AMD_8z",
        "outputId": "3353b4bc-7749-44da-ea04-b06ebfaee084"
      },
      "execution_count": null,
      "outputs": [
        {
          "output_type": "execute_result",
          "data": {
            "text/plain": [
              "array([-1,  0,  1])"
            ]
          },
          "metadata": {},
          "execution_count": 51
        }
      ]
    },
    {
      "cell_type": "code",
      "source": [
        "A*B"
      ],
      "metadata": {
        "colab": {
          "base_uri": "https://localhost:8080/"
        },
        "id": "Bu6gazA7EBus",
        "outputId": "7eb4c660-903f-456e-9d58-2217ceed05a5"
      },
      "execution_count": null,
      "outputs": [
        {
          "output_type": "execute_result",
          "data": {
            "text/plain": [
              "array([[-1,  0,  3],\n",
              "       [-4,  0,  6],\n",
              "       [-7,  0,  9]])"
            ]
          },
          "metadata": {},
          "execution_count": 52
        }
      ]
    },
    {
      "cell_type": "markdown",
      "source": [
        "Yes! Broadcasting is possible for all the operations.\n",
        "\n",
        "\n",
        "\n"
      ],
      "metadata": {
        "id": "AE_htiW4kNY2"
      }
    },
    {
      "cell_type": "markdown",
      "source": [
        "---"
      ],
      "metadata": {
        "id": "Ebf0-AqWaS-n"
      }
    },
    {
      "cell_type": "code",
      "execution_count": null,
      "metadata": {
        "colab": {
          "base_uri": "https://localhost:8080/"
        },
        "id": "t-A4yOtMeNhb",
        "outputId": "53f1df9a-cf91-42ae-abb7-0c8d723c533f"
      },
      "outputs": [
        {
          "output_type": "execute_result",
          "data": {
            "text/plain": [
              "array([[ 0,  1,  2,  3],\n",
              "       [ 4,  5,  6,  7],\n",
              "       [ 8,  9, 10, 11]])"
            ]
          },
          "metadata": {},
          "execution_count": 53
        }
      ],
      "source": [
        "A = np.arange(12).reshape(3, 4)\n",
        "A"
      ]
    },
    {
      "cell_type": "code",
      "execution_count": null,
      "metadata": {
        "colab": {
          "base_uri": "https://localhost:8080/"
        },
        "id": "zfZpZNIeeNhb",
        "outputId": "8a2551dc-7ff4-4821-864b-39f6446a907a"
      },
      "outputs": [
        {
          "output_type": "execute_result",
          "data": {
            "text/plain": [
              "array([1, 2, 3])"
            ]
          },
          "metadata": {},
          "execution_count": 54
        }
      ],
      "source": [
        "B = np.array([1, 2, 3])\n",
        "B"
      ]
    },
    {
      "cell_type": "code",
      "execution_count": null,
      "metadata": {
        "colab": {
          "base_uri": "https://localhost:8080/",
          "height": 179
        },
        "id": "k2uXzBV_ee4d",
        "outputId": "c7e70205-607d-40f6-f5f0-812c8e7009ee"
      },
      "outputs": [
        {
          "output_type": "error",
          "ename": "ValueError",
          "evalue": "operands could not be broadcast together with shapes (3,4) (3,) ",
          "traceback": [
            "\u001b[0;31m---------------------------------------------------------------------------\u001b[0m",
            "\u001b[0;31mValueError\u001b[0m                                Traceback (most recent call last)",
            "\u001b[0;32m<ipython-input-55-151064de832d>\u001b[0m in \u001b[0;36m<cell line: 1>\u001b[0;34m()\u001b[0m\n\u001b[0;32m----> 1\u001b[0;31m \u001b[0mA\u001b[0m \u001b[0;34m+\u001b[0m \u001b[0mB\u001b[0m\u001b[0;34m\u001b[0m\u001b[0;34m\u001b[0m\u001b[0m\n\u001b[0m",
            "\u001b[0;31mValueError\u001b[0m: operands could not be broadcast together with shapes (3,4) (3,) "
          ]
        }
      ],
      "source": [
        "A + B"
      ]
    },
    {
      "cell_type": "markdown",
      "metadata": {
        "id": "59kSBKtN2E3k"
      },
      "source": [
        "**Why did it throw an error?**\n",
        "\n",
        "Are the number of dimensions same for both array? No.\n",
        "- Shape of A $\\Rightarrow$ (3,4)\n",
        "- Shape of B $\\Rightarrow$ (3,)\n",
        "\n",
        "So, `Rule 1` will be invoked to pad 1 to the shape of B.\n",
        "\n",
        "So, the shape of B becomes **(1,3)**.\n",
        "\n",
        "\\\n",
        "Now, we check whether broadcasting conditions are met or not?\n",
        "\n",
        "Starting from the right most side,\n",
        "- Right most dimension is not equal (4 and 3).\n",
        "\n",
        "Hence, broadcasting is not possible as per `Rule 3`."
      ]
    },
    {
      "cell_type": "markdown",
      "source": [
        "---"
      ],
      "metadata": {
        "id": "FtTSbUF8bbSX"
      }
    },
    {
      "cell_type": "markdown",
      "metadata": {
        "id": "-Ky78A4p4PxZ"
      },
      "source": [
        "**Question:** Given two arrays,\n",
        "1. Array A of shape  (8, 1, 6, 1)\n",
        "2. Array B of shape (7, 1, 5)\n",
        "\n",
        "Is broadcasting possible in this case? If yes, what will be the shape of output?\n",
        "\n",
        "**Answer:** Broadcasting possible; Shape will be (8, 7, 6, 5)\n",
        "\n",
        "**Explanation:**\n",
        "\n",
        "As number of dimensions are not equal, `Rule 1` is invoked.\n",
        "\n",
        "The shape of B becomes (1, 7, 1, 5)\n",
        "\n",
        "Next, it checks whether broadcasting is possible.\n",
        "\n",
        "A $\\Rightarrow$ (8 , 1, 6, 1) \\\n",
        "B $\\Rightarrow$ (1, 7, 1, 5)\n",
        "\n",
        "- Right most dimension, one of the dimension is 1 (1 vs 5)\n",
        "- Next, comparing 6 and 1, We have one dimension as 1\n",
        "- Similarly, we have one of the dimension as 1 in both leading dimensions.\n",
        "\n",
        "Hence, broadcasting is possible.\n",
        "\n",
        "Now, as per `Rule 2`, dimension with value 1 is streched to match dimension of other array.\n",
        "\n",
        "- Right most dimension of array is streched to match 5\n",
        "- Leading dimension of array B (1) is streched to match array A dim (6)\n",
        "\n",
        "So, the output shape becomes : `(8, 7, 6, 5)`."
      ]
    },
    {
      "cell_type": "markdown",
      "source": [
        "---"
      ],
      "metadata": {
        "id": "5IAvnbo_EuQh"
      }
    },
    {
      "cell_type": "code",
      "source": [],
      "metadata": {
        "id": "ndbjSnUbCi8X"
      },
      "execution_count": null,
      "outputs": []
    }
  ]
}