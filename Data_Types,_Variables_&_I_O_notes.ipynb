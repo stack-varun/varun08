{
  "nbformat": 4,
  "nbformat_minor": 0,
  "metadata": {
    "colab": {
      "provenance": [],
      "include_colab_link": true
    },
    "kernelspec": {
      "name": "python3",
      "display_name": "Python 3"
    },
    "language_info": {
      "name": "python"
    }
  },
  "cells": [
    {
      "cell_type": "markdown",
      "metadata": {
        "id": "view-in-github",
        "colab_type": "text"
      },
      "source": [
        "<a href=\"https://colab.research.google.com/github/stack-varun/varun08/blob/main/Data_Types%2C_Variables_%26_I_O_notes.ipynb\" target=\"_parent\"><img src=\"https://colab.research.google.com/assets/colab-badge.svg\" alt=\"Open In Colab\"/></a>"
      ]
    },
    {
      "cell_type": "markdown",
      "source": [
        "# Date Types, Variables and I/O\n",
        "\n",
        "\n",
        "\n"
      ],
      "metadata": {
        "id": "YV0TfrcJAaCN"
      }
    },
    {
      "cell_type": "markdown",
      "source": [
        "---"
      ],
      "metadata": {
        "id": "KEaMeRw1MQ8-"
      }
    },
    {
      "cell_type": "markdown",
      "source": [
        "## **Content**\n",
        "\n",
        "1. Motivation behind programming languages\n",
        "1. Getting Started with Python\n",
        "1. Print Statement\n",
        "1. Data Types\n",
        "  1. Integer\n",
        "  1. Float\n",
        "  1. String\n",
        "  1. Bool\n",
        "  1. NoneType\n",
        "1. `type()`\n",
        "1. Variables\n",
        "1. I/O - `input()`\n",
        "  1. `int()`\n",
        "  1. `str()`"
      ],
      "metadata": {
        "id": "Gwucum-gAlVq"
      }
    },
    {
      "cell_type": "markdown",
      "source": [
        "---"
      ],
      "metadata": {
        "id": "XB6ltZevMiRU"
      }
    },
    {
      "cell_type": "markdown",
      "source": [
        "## **Motivation behind programming languages -**"
      ],
      "metadata": {
        "id": "6iWu2rMvszYp"
      }
    },
    {
      "cell_type": "markdown",
      "source": [
        "#### Can you talk to a computer in English?\n",
        "- Computer only understands electric signal - '**High**' and '**Low**'.\n",
        "- The language understood by computer is called binary language with **0/1** where '1' is high and '0' is low.\n",
        "\n",
        "1. **Translator** - A computer program, is needed to convert human -understandable language to binary language.\n",
        "2. **Human** - Understandable language is called 'High level language'.\n",
        "  e.g. Python, Java, Javascript, Ruby, etc.\n",
        "3. **Syntax** - Set of rules or grammar for writing a computer program."
      ],
      "metadata": {
        "id": "fB5owtmXsiVi"
      }
    },
    {
      "cell_type": "markdown",
      "source": [
        "---"
      ],
      "metadata": {
        "id": "XYw3qlePMjw1"
      }
    },
    {
      "cell_type": "markdown",
      "source": [
        "## **Getting Started with Python**"
      ],
      "metadata": {
        "id": "GdrFsKT6r2JK"
      }
    },
    {
      "cell_type": "markdown",
      "source": [
        "1.   Python Insallation (https://www.python.org/downloads/)\n",
        "2.   Editor (.py)\n",
        "3.   CMD (execute)\n",
        "\n",
        "Instead, let's use an **IDE**.\n",
        "\n",
        "IDE - Integrated Development Environment\n",
        "\n",
        "e.g.\n",
        "- VS Code\n",
        "- Pycharm\n",
        "- Online IDE\n",
        "\n",
        "Introducing online IDEs\n",
        "- ide.view\n",
        "- ide.codingminutes\n",
        "- `Google Colab`"
      ],
      "metadata": {
        "id": "S-P6x2WWsAzM"
      }
    },
    {
      "cell_type": "markdown",
      "source": [
        "---"
      ],
      "metadata": {
        "id": "dF9qZR27Ml8D"
      }
    },
    {
      "cell_type": "markdown",
      "source": [
        "## **Print Statement**"
      ],
      "metadata": {
        "id": "Oc6vqzeDgYe5"
      }
    },
    {
      "cell_type": "code",
      "source": [
        "print(3000)"
      ],
      "metadata": {
        "id": "ytmFXHFwgWvJ",
        "colab": {
          "base_uri": "https://localhost:8080/"
        },
        "outputId": "714d2fdd-e6b4-4276-bb83-576c4f1c2a44"
      },
      "execution_count": null,
      "outputs": [
        {
          "output_type": "stream",
          "name": "stdout",
          "text": [
            "3000\n"
          ]
        }
      ]
    },
    {
      "cell_type": "code",
      "source": [
        "print(20+30) # python does basic arithmetic operations"
      ],
      "metadata": {
        "id": "6o2qwEYvgpmz",
        "colab": {
          "base_uri": "https://localhost:8080/"
        },
        "outputId": "3f1bd6f0-541d-403d-9514-27559ade1eae"
      },
      "execution_count": null,
      "outputs": [
        {
          "output_type": "stream",
          "name": "stdout",
          "text": [
            "50\n"
          ]
        }
      ]
    },
    {
      "cell_type": "markdown",
      "source": [
        "**Note:**\n",
        "```python\n",
        "print(4 + 9) # spaces in the middle don't matter\n",
        "```"
      ],
      "metadata": {
        "id": "Gaq1KpKSg5nM"
      }
    },
    {
      "cell_type": "code",
      "source": [
        "# everything inside \" \" is printed as it is\n",
        "print(\"I love you all 3000!\")"
      ],
      "metadata": {
        "id": "NyNC1TWYhXIL",
        "colab": {
          "base_uri": "https://localhost:8080/"
        },
        "outputId": "46884a62-cbc0-493a-df5d-d041bc9e9fec"
      },
      "execution_count": null,
      "outputs": [
        {
          "output_type": "stream",
          "name": "stdout",
          "text": [
            "I love you all 3000!\n"
          ]
        }
      ]
    },
    {
      "cell_type": "code",
      "source": [
        "# will give an error without the quotes\n",
        "print(I love you all 3000!)"
      ],
      "metadata": {
        "id": "W90cLFiChYfx",
        "colab": {
          "base_uri": "https://localhost:8080/",
          "height": 143
        },
        "outputId": "b477615c-0145-479b-8104-d47f7953cffd"
      },
      "execution_count": null,
      "outputs": [
        {
          "output_type": "error",
          "ename": "SyntaxError",
          "evalue": "ignored",
          "traceback": [
            "\u001b[0;36m  File \u001b[0;32m\"<ipython-input-4-7b7d759d00ee>\"\u001b[0;36m, line \u001b[0;32m2\u001b[0m\n\u001b[0;31m    print(I love you all 3000!)\u001b[0m\n\u001b[0m          ^\u001b[0m\n\u001b[0;31mSyntaxError\u001b[0m\u001b[0;31m:\u001b[0m invalid syntax. Perhaps you forgot a comma?\n"
          ]
        }
      ]
    },
    {
      "cell_type": "markdown",
      "source": [
        "**Note:** Python is case sensitive.\n",
        "* `Print` is invalid\n",
        "* `print` is valid"
      ],
      "metadata": {
        "id": "0p6IKxrhiI0D"
      }
    },
    {
      "cell_type": "markdown",
      "source": [
        "---"
      ],
      "metadata": {
        "id": "pHnWtfY3Mndi"
      }
    },
    {
      "cell_type": "markdown",
      "source": [
        "### **Quiz-1**\n",
        "**Question:  Predict the output of the following.**\n",
        "```python\n",
        "print(8-5)\n",
        "```\n",
        "    A. 8-5\n",
        "\n",
        "    B. 3\n",
        "\n",
        "    C. Error\n",
        "**Ans**: 'B'"
      ],
      "metadata": {
        "id": "j-96ms3Dg_Pp"
      }
    },
    {
      "cell_type": "markdown",
      "source": [
        "---"
      ],
      "metadata": {
        "id": "_buU8SvcMpXE"
      }
    },
    {
      "cell_type": "markdown",
      "source": [
        "## **Data Types**\n"
      ],
      "metadata": {
        "id": "v8GZzZDnBVrB"
      }
    },
    {
      "cell_type": "markdown",
      "source": [
        "- The type of data that we are dealing with.\n",
        "- e.g. **Text**, **Numbers**, **Decimals**, etc."
      ],
      "metadata": {
        "id": "Mx-EFPgPN6hB"
      }
    },
    {
      "cell_type": "markdown",
      "source": [
        "### **Int (Integers)**\n",
        "\n"
      ],
      "metadata": {
        "id": "5lSEncdrBJcq"
      }
    },
    {
      "cell_type": "markdown",
      "source": [
        "- A data type that deals with **positive** or **negative** whole numbers.\n",
        "- e.g. 1, -4, 8, 0, 323434242...\n",
        "- Python has no upper limit on size."
      ],
      "metadata": {
        "id": "uN6JcKMXONPd"
      }
    },
    {
      "cell_type": "markdown",
      "source": [
        "### **Float (Decimals)**\n"
      ],
      "metadata": {
        "id": "9xXatLL2CMzH"
      }
    },
    {
      "cell_type": "markdown",
      "source": [
        "- All real numbers that are not Integers.\n",
        "- e.g. .3, 0.123, -2.4\n",
        "\n",
        "####**Question**: Is 9 and 9.0 same?\n",
        "- In real sense they are same, but in python they are **different**.\n",
        "- 9.0 is a float and 9 is an integer.\n",
        "\n",
        "**Note:** '`.`' is not a decimal but '`0.`' is"
      ],
      "metadata": {
        "id": "aKubmGa4OO5B"
      }
    },
    {
      "cell_type": "markdown",
      "source": [
        "---"
      ],
      "metadata": {
        "id": "HGxO7wVXMqAo"
      }
    },
    {
      "cell_type": "markdown",
      "source": [
        "### **Quiz-2**\n",
        "\n",
        "\n"
      ],
      "metadata": {
        "id": "sS1yeOI3CyRA"
      }
    },
    {
      "cell_type": "markdown",
      "source": [
        "**Question:** Which of the following values are of type float in Python?\n",
        "\n",
        "a. ```0.3```\n",
        "\n",
        "b. ```.2```\n",
        "\n",
        "c. ```\"2.3\"```\n",
        "\n",
        "d. ```1.0```\n",
        "\n",
        "e. ```\"3.14\"```\n",
        "\n",
        "f. ```-3```\n",
        "\n",
        "g. ```5.```"
      ],
      "metadata": {
        "id": "UZHZU7rsOedO"
      }
    },
    {
      "cell_type": "markdown",
      "source": [
        "**Options:**\n",
        "\n",
        "A. a, b, c, d, e, f, g\n",
        "\n",
        "B. a, b, g\n",
        "\n",
        "C. a, b, d, g\n",
        "\n",
        "D. a, b, c, d, e, g\n",
        "\n",
        "**Ans**: C"
      ],
      "metadata": {
        "id": "lVxCqhlVOsPE"
      }
    },
    {
      "cell_type": "markdown",
      "source": [
        "---"
      ],
      "metadata": {
        "id": "zKy6HQjUMqnV"
      }
    },
    {
      "cell_type": "markdown",
      "source": [
        "### **Strings**\n",
        "\n"
      ],
      "metadata": {
        "id": "-pvi7He-Dsi8"
      }
    },
    {
      "cell_type": "markdown",
      "source": [
        "- Anything inside quotes is considered string.\n",
        "- We can use either Double quotes (`\" \"`) or Single quotes (`' '`).\n",
        "- We have to start and end with the same type of quote.\n",
        "\n",
        "**Example**:\n",
        "- `\"Hello everyone\"` - **valid**\n",
        "- `'hello'` - **valid**\n",
        "- `\"hey everyone'` - **invalid**"
      ],
      "metadata": {
        "id": "74m8gTwfO0fo"
      }
    },
    {
      "cell_type": "markdown",
      "source": [
        "### **Bool (boolean)**\n",
        "\n"
      ],
      "metadata": {
        "id": "BtyrNDs6EjvG"
      }
    },
    {
      "cell_type": "markdown",
      "source": [
        "- It has a `True` or `False` value.\n",
        "- `True` is usualy 'high' and `False` is 'low'.\n",
        "- We use boolean values when comparing."
      ],
      "metadata": {
        "id": "QwUwkXEwO-Hv"
      }
    },
    {
      "cell_type": "code",
      "source": [
        "print(2 > 3)"
      ],
      "metadata": {
        "colab": {
          "base_uri": "https://localhost:8080/"
        },
        "id": "kvSOt0XHHmlb",
        "outputId": "d6bb4f8a-2649-44eb-9c4a-d320dced8684"
      },
      "execution_count": null,
      "outputs": [
        {
          "output_type": "stream",
          "name": "stdout",
          "text": [
            "False\n"
          ]
        }
      ]
    },
    {
      "cell_type": "markdown",
      "source": [
        "### **None** Type\n",
        "\n",
        "\n"
      ],
      "metadata": {
        "id": "ohpAr_Y-FI5h"
      }
    },
    {
      "cell_type": "markdown",
      "source": [
        "- Has only one value, `None`.\n",
        "- Used to represent nothing or an empty value."
      ],
      "metadata": {
        "id": "rF_slraRPAtO"
      }
    },
    {
      "cell_type": "markdown",
      "source": [
        "---"
      ],
      "metadata": {
        "id": "2CT8W7wtMt1x"
      }
    },
    {
      "cell_type": "markdown",
      "source": [
        "### **How do you check data type of a given object?**\n",
        "Every value inside python is called an object.\n",
        "\n",
        "**Ans:** Using the `type()` function\n"
      ],
      "metadata": {
        "id": "7PJBHM1bGFNm"
      }
    },
    {
      "cell_type": "markdown",
      "source": [
        "### ```type()```\n",
        " - It takes in an object and returns the data type of the object."
      ],
      "metadata": {
        "id": "5-pUT17SPMwD"
      }
    },
    {
      "cell_type": "code",
      "source": [
        "type(\"Hello\")"
      ],
      "metadata": {
        "colab": {
          "base_uri": "https://localhost:8080/"
        },
        "id": "msHt4LJKPQzZ",
        "outputId": "248bdca8-9367-4ff2-ddd2-971e470fe093"
      },
      "execution_count": null,
      "outputs": [
        {
          "output_type": "execute_result",
          "data": {
            "text/plain": [
              "str"
            ]
          },
          "metadata": {},
          "execution_count": 2
        }
      ]
    },
    {
      "cell_type": "code",
      "source": [
        "type(45)"
      ],
      "metadata": {
        "colab": {
          "base_uri": "https://localhost:8080/"
        },
        "id": "ID3ol487PRyW",
        "outputId": "b023d35a-c6d1-481b-fbae-fd5e27e0e1f2"
      },
      "execution_count": null,
      "outputs": [
        {
          "output_type": "execute_result",
          "data": {
            "text/plain": [
              "int"
            ]
          },
          "metadata": {},
          "execution_count": 3
        }
      ]
    },
    {
      "cell_type": "code",
      "source": [
        "type(67.8)"
      ],
      "metadata": {
        "colab": {
          "base_uri": "https://localhost:8080/"
        },
        "id": "Hvtijt_9PTCm",
        "outputId": "2815488d-8246-4a78-a357-755c8ac3563c"
      },
      "execution_count": null,
      "outputs": [
        {
          "output_type": "execute_result",
          "data": {
            "text/plain": [
              "float"
            ]
          },
          "metadata": {},
          "execution_count": 4
        }
      ]
    },
    {
      "cell_type": "code",
      "source": [
        "type(True)"
      ],
      "metadata": {
        "colab": {
          "base_uri": "https://localhost:8080/"
        },
        "id": "GYL2rEEtPTzq",
        "outputId": "2ab4a189-9d18-49dc-d336-54514eddf322"
      },
      "execution_count": null,
      "outputs": [
        {
          "output_type": "execute_result",
          "data": {
            "text/plain": [
              "bool"
            ]
          },
          "metadata": {},
          "execution_count": 5
        }
      ]
    },
    {
      "cell_type": "code",
      "source": [
        "type(None)"
      ],
      "metadata": {
        "colab": {
          "base_uri": "https://localhost:8080/"
        },
        "id": "Ifpk_YU3TM55",
        "outputId": "abc86b28-6403-43dc-be7a-28b91e21a378"
      },
      "execution_count": null,
      "outputs": [
        {
          "output_type": "execute_result",
          "data": {
            "text/plain": [
              "NoneType"
            ]
          },
          "metadata": {},
          "execution_count": 1
        }
      ]
    },
    {
      "cell_type": "markdown",
      "source": [
        "* IDE or a Python Shell might not print the result from `type()`.\n",
        "\n",
        "* But **Jupyter** or **Colab** notebook prints the result of `type()` by default."
      ],
      "metadata": {
        "id": "peEF48hQGL9Z"
      }
    },
    {
      "cell_type": "code",
      "source": [
        "print(type(\"hello\"))"
      ],
      "metadata": {
        "id": "rgAmRPSqhiGN"
      },
      "execution_count": null,
      "outputs": []
    },
    {
      "cell_type": "markdown",
      "source": [
        "The result of `type()` function is passed to the `print()` function and the output is printed on the screen, in both IDE and Jupyter/Colab notebook."
      ],
      "metadata": {
        "id": "5kiLmsv6Pqm5"
      }
    },
    {
      "cell_type": "markdown",
      "source": [
        "\n",
        "<img src=\"https://d2beiqkhq929f0.cloudfront.net/public_assets/assets/000/059/778/original/download_%283%29.png?1703074010\">"
      ],
      "metadata": {
        "id": "5uu8jYfCHtEK"
      }
    },
    {
      "cell_type": "markdown",
      "source": [
        "---"
      ],
      "metadata": {
        "id": "yzhb9PYzMuho"
      }
    },
    {
      "cell_type": "markdown",
      "source": [
        "## **Variables**"
      ],
      "metadata": {
        "id": "aZnR3BifP_gO"
      }
    },
    {
      "cell_type": "markdown",
      "source": [
        "- Variables are nothing but containers to keep objects.\n",
        "- A variable is an identifier / name given to an object.\n",
        "- A variable in python refers to a reserved memory location."
      ],
      "metadata": {
        "id": "tsJGybAoP-Kj"
      }
    },
    {
      "cell_type": "code",
      "source": [
        "a = 3\n",
        "print(a)"
      ],
      "metadata": {
        "id": "pwhyLM1pQAlb"
      },
      "execution_count": null,
      "outputs": []
    },
    {
      "cell_type": "code",
      "source": [
        "b = 4\n",
        "print(a + b)"
      ],
      "metadata": {
        "colab": {
          "base_uri": "https://localhost:8080/"
        },
        "id": "wBWMEXOKQBoA",
        "outputId": "de3af213-9c83-46fd-859a-73c01361a8a0"
      },
      "execution_count": null,
      "outputs": [
        {
          "output_type": "execute_result",
          "data": {
            "text/plain": [
              "7"
            ]
          },
          "metadata": {},
          "execution_count": 8
        }
      ]
    },
    {
      "cell_type": "markdown",
      "source": [
        "- Python does not need specification about what data it stores.\n",
        "- It automatically knows the type based on what it stores."
      ],
      "metadata": {
        "id": "k4UbGXlVQI85"
      }
    },
    {
      "cell_type": "code",
      "source": [
        "type(a)"
      ],
      "metadata": {
        "colab": {
          "base_uri": "https://localhost:8080/"
        },
        "id": "ZEp1bEDGQE6s",
        "outputId": "c51369cc-1bf3-4bce-ab9b-b05ec9e654df"
      },
      "execution_count": null,
      "outputs": [
        {
          "output_type": "execute_result",
          "data": {
            "text/plain": [
              "int"
            ]
          },
          "metadata": {},
          "execution_count": 10
        }
      ]
    },
    {
      "cell_type": "markdown",
      "source": [
        "- In Python, the code is read from top to bottom.\n",
        "- The value of a variables can be changed."
      ],
      "metadata": {
        "id": "PBAQB6zFQUJ3"
      }
    },
    {
      "cell_type": "code",
      "source": [
        "x = 3\n",
        "x = 5\n",
        "print(x)"
      ],
      "metadata": {
        "colab": {
          "base_uri": "https://localhost:8080/"
        },
        "id": "XPDOU7FdQRZ2",
        "outputId": "fcd34967-b0e7-4933-815e-32592690945c"
      },
      "execution_count": null,
      "outputs": [
        {
          "output_type": "stream",
          "name": "stdout",
          "text": [
            "5\n"
          ]
        }
      ]
    },
    {
      "cell_type": "code",
      "source": [
        "x = \"i am\"\n",
        "y = \"legend !\"\n",
        "print(x)\n",
        "print(y) # prints in seperate lines"
      ],
      "metadata": {
        "colab": {
          "base_uri": "https://localhost:8080/"
        },
        "id": "9Q670B_FQVuo",
        "outputId": "394385a2-4819-43cf-8696-2de47826cd76"
      },
      "execution_count": null,
      "outputs": [
        {
          "output_type": "stream",
          "name": "stdout",
          "text": [
            "i am\n",
            "legend !\n"
          ]
        }
      ]
    },
    {
      "cell_type": "code",
      "source": [
        "print(x, y) # prints space seperated"
      ],
      "metadata": {
        "colab": {
          "base_uri": "https://localhost:8080/"
        },
        "id": "N_KxOjicQXW0",
        "outputId": "9670543c-4f00-44e5-b588-942e6cd3443e"
      },
      "execution_count": null,
      "outputs": [
        {
          "output_type": "stream",
          "name": "stdout",
          "text": [
            "i am legend !\n"
          ]
        }
      ]
    },
    {
      "cell_type": "markdown",
      "source": [
        "---"
      ],
      "metadata": {
        "id": "iEsMJXZ8MvFV"
      }
    },
    {
      "cell_type": "markdown",
      "source": [
        "## **Variable naming rules -**\n"
      ],
      "metadata": {
        "id": "wEt0HaSZN4yH"
      }
    },
    {
      "cell_type": "markdown",
      "source": [
        "A Python identifier can be a combination of lowercase/ uppercase letters, digits, or an underscore.\n",
        "\n",
        "The following characters are valid:\n",
        "  * Lowercase letters (a to z)\n",
        "  * Uppercase letters (A to Z)\n",
        "  * Digits (0 to 9)\n",
        "  * Underscore (_)\n",
        "\n"
      ],
      "metadata": {
        "id": "z6K9-D17Qp8L"
      }
    },
    {
      "cell_type": "markdown",
      "source": [
        "**Example:**\n",
        "* video_1\n",
        "* myVar"
      ],
      "metadata": {
        "id": "xfhBDQ9xQvz3"
      }
    },
    {
      "cell_type": "markdown",
      "source": [
        "**Note:**\n",
        "- An identifier cannot begin with a digit.\n",
        "- Example: `1video` is **invalid**.\n"
      ],
      "metadata": {
        "id": "CnMopyrvQynS"
      }
    },
    {
      "cell_type": "code",
      "source": [
        "x=10\n",
        "y = x\n",
        "print(y)"
      ],
      "metadata": {
        "colab": {
          "base_uri": "https://localhost:8080/"
        },
        "id": "XJTgWiGjRGVQ",
        "outputId": "2f3066c9-0604-4d25-e115-5210c0b1556d"
      },
      "execution_count": null,
      "outputs": [
        {
          "output_type": "stream",
          "name": "stdout",
          "text": [
            "10\n"
          ]
        }
      ]
    },
    {
      "cell_type": "markdown",
      "source": [
        "<img src=\"https://d2beiqkhq929f0.cloudfront.net/public_assets/assets/000/059/779/original/download_%284%29.png?1703074200\">"
      ],
      "metadata": {
        "id": "V5OcDyiyPGab"
      }
    },
    {
      "cell_type": "markdown",
      "source": [
        "<img src=\"https://d2beiqkhq929f0.cloudfront.net/public_assets/assets/000/059/780/original/download_%285%29.png?1703074271\">"
      ],
      "metadata": {
        "id": "wZV5x58APU9_"
      }
    },
    {
      "cell_type": "markdown",
      "source": [
        "---"
      ],
      "metadata": {
        "id": "XMl_8lwTMvxn"
      }
    },
    {
      "cell_type": "markdown",
      "source": [
        "### **Quiz-3**\n",
        "**Question**: Which of the following is a valid variable name?\n",
        "\n",
        "A. ```hELLO```\n",
        "\n",
        "B. ```1_name_Input```\n",
        "\n",
        "C. ```a*b*c```\n",
        "\n",
        "D. ```Cod3$#```\n",
        "\n",
        "**Ans**: 'A'\n",
        "\n",
        "Why?\n",
        "- 'B' invalid as it starts with number.\n",
        "- 'C' invalid as it has '*'\n",
        "- 'D' invalid as it has '$'"
      ],
      "metadata": {
        "id": "MKmm4Kh7o9CP"
      }
    },
    {
      "cell_type": "markdown",
      "source": [
        "---"
      ],
      "metadata": {
        "id": "JKDNYYW6MwO4"
      }
    },
    {
      "cell_type": "markdown",
      "source": [
        "## **Taking Input**\n"
      ],
      "metadata": {
        "id": "c1PvN_BoP2Gx"
      }
    },
    {
      "cell_type": "markdown",
      "source": [
        "The `input()` function takes in an input provided by the user."
      ],
      "metadata": {
        "id": "kkfn0PL9Ra8d"
      }
    },
    {
      "cell_type": "code",
      "source": [
        "name = input()\n",
        "name"
      ],
      "metadata": {
        "colab": {
          "base_uri": "https://localhost:8080/",
          "height": 53
        },
        "id": "153T_FzjRgR0",
        "outputId": "69ff3f87-2202-4b32-f7d6-0be8bae3c8bd"
      },
      "execution_count": null,
      "outputs": [
        {
          "name": "stdout",
          "output_type": "stream",
          "text": [
            "Bipin\n"
          ]
        },
        {
          "output_type": "execute_result",
          "data": {
            "text/plain": [
              "'Bipin'"
            ],
            "application/vnd.google.colaboratory.intrinsic+json": {
              "type": "string"
            }
          },
          "metadata": {},
          "execution_count": 17
        }
      ]
    },
    {
      "cell_type": "code",
      "source": [
        "name = input()\n",
        "print(\"hello name\") # name is string"
      ],
      "metadata": {
        "colab": {
          "base_uri": "https://localhost:8080/"
        },
        "id": "sRzPNBhpRjbn",
        "outputId": "1035e0dc-638e-468e-9e89-3f0b9ec18a3a"
      },
      "execution_count": null,
      "outputs": [
        {
          "output_type": "stream",
          "name": "stdout",
          "text": [
            "Bipin\n",
            "hello name\n"
          ]
        }
      ]
    },
    {
      "cell_type": "code",
      "source": [
        "name = input()\n",
        "print(\"hello\", name) # name is variable"
      ],
      "metadata": {
        "colab": {
          "base_uri": "https://localhost:8080/"
        },
        "id": "KUJzqbEoRrYa",
        "outputId": "3b243d08-b3c3-4f85-e0f3-ad4976b53063"
      },
      "execution_count": null,
      "outputs": [
        {
          "output_type": "stream",
          "name": "stdout",
          "text": [
            "Bipin\n",
            "hello Bipin\n"
          ]
        }
      ]
    },
    {
      "cell_type": "markdown",
      "source": [
        "---"
      ],
      "metadata": {
        "id": "GMrI3UHvMwtN"
      }
    },
    {
      "cell_type": "markdown",
      "source": [
        "### **Quiz-4**\n",
        "**Question**: Predict the output of the following.\n",
        "```python\n",
        "x = 3\n",
        "y = 'hello'\n",
        "num = y\n",
        "y = 5\n",
        "print(num, y)\n",
        "```\n",
        "A. 5 5\n",
        "\n",
        "B. hello hello\n",
        "\n",
        "C. hello 5\n",
        "\n",
        "**Ans**: 'C'"
      ],
      "metadata": {
        "id": "cAiudeKEKgcZ"
      }
    },
    {
      "cell_type": "markdown",
      "source": [
        "---"
      ],
      "metadata": {
        "id": "Qs6boRAtMxmv"
      }
    },
    {
      "cell_type": "markdown",
      "source": [
        "## **Taking input as integer / string -**"
      ],
      "metadata": {
        "id": "BaNtzPC5iid6"
      }
    },
    {
      "cell_type": "markdown",
      "source": [
        "### **Question**: **Write a program to take two numbers as input and add them.**\n"
      ],
      "metadata": {
        "id": "VWDQ7rVBQqZY"
      }
    },
    {
      "cell_type": "code",
      "source": [
        "x = input()\n",
        "y = input()\n",
        "print(x+y) # input taken as string"
      ],
      "metadata": {
        "colab": {
          "base_uri": "https://localhost:8080/"
        },
        "id": "GNaPgbEUR9Df",
        "outputId": "8303290a-fcd4-47ac-f1c0-766a9feef273"
      },
      "execution_count": null,
      "outputs": [
        {
          "output_type": "stream",
          "name": "stdout",
          "text": [
            "45\n",
            "54\n",
            "4554\n"
          ]
        }
      ]
    },
    {
      "cell_type": "markdown",
      "source": [
        "- The `input()` functions takes input as a string.\n",
        "- The `int()` function converts the input into an integer."
      ],
      "metadata": {
        "id": "clBIPWeoi9Ib"
      }
    },
    {
      "cell_type": "code",
      "source": [
        "x = input()\n",
        "y = input()\n",
        "int_x = int(x)\n",
        "int_y = int(y)\n",
        "print(type(int_x))\n",
        "print(type(int_y))"
      ],
      "metadata": {
        "colab": {
          "base_uri": "https://localhost:8080/"
        },
        "id": "ZMjdMnRaSDvm",
        "outputId": "10ab69a5-d2b8-4602-cb2a-695e3ff157e9"
      },
      "execution_count": null,
      "outputs": [
        {
          "output_type": "stream",
          "name": "stdout",
          "text": [
            "45\n",
            "54\n",
            "<class 'int'>\n",
            "<class 'int'>\n"
          ]
        }
      ]
    },
    {
      "cell_type": "code",
      "source": [
        "x = \"I am a string\"\n",
        "int(x) # error, this string cannot be converted to integer"
      ],
      "metadata": {
        "colab": {
          "base_uri": "https://localhost:8080/",
          "height": 183
        },
        "id": "rZ0jmJkfSUaA",
        "outputId": "3aefe7e8-af9d-45d0-b929-19a26f4dd71c"
      },
      "execution_count": null,
      "outputs": [
        {
          "output_type": "error",
          "ename": "ValueError",
          "evalue": "ignored",
          "traceback": [
            "\u001b[0;31m---------------------------------------------------------------------------\u001b[0m",
            "\u001b[0;31mValueError\u001b[0m                                Traceback (most recent call last)",
            "\u001b[0;32m<ipython-input-25-6884c7679f60>\u001b[0m in \u001b[0;36m<module>\u001b[0;34m\u001b[0m\n\u001b[1;32m      1\u001b[0m \u001b[0mx\u001b[0m \u001b[0;34m=\u001b[0m \u001b[0;34m\"I am a string\"\u001b[0m\u001b[0;34m\u001b[0m\u001b[0;34m\u001b[0m\u001b[0m\n\u001b[0;32m----> 2\u001b[0;31m \u001b[0mint\u001b[0m\u001b[0;34m(\u001b[0m\u001b[0mx\u001b[0m\u001b[0;34m)\u001b[0m \u001b[0;31m#error, this string cannot be converted to integer\u001b[0m\u001b[0;34m\u001b[0m\u001b[0;34m\u001b[0m\u001b[0m\n\u001b[0m",
            "\u001b[0;31mValueError\u001b[0m: invalid literal for int() with base 10: 'I am a string'"
          ]
        }
      ]
    },
    {
      "cell_type": "markdown",
      "source": [
        "-   The `str()` function converts an input into a string."
      ],
      "metadata": {
        "id": "ZldcSy1CSaQ_"
      }
    },
    {
      "cell_type": "code",
      "source": [
        "x = 345\n",
        "str(x)"
      ],
      "metadata": {
        "colab": {
          "base_uri": "https://localhost:8080/",
          "height": 35
        },
        "id": "qm3bviD7SV5o",
        "outputId": "2791bc31-73a4-4cdf-8522-10b120180e15"
      },
      "execution_count": null,
      "outputs": [
        {
          "output_type": "execute_result",
          "data": {
            "text/plain": [
              "'345'"
            ],
            "application/vnd.google.colaboratory.intrinsic+json": {
              "type": "string"
            }
          },
          "metadata": {},
          "execution_count": 26
        }
      ]
    },
    {
      "cell_type": "markdown",
      "source": [
        "---"
      ],
      "metadata": {
        "id": "VGvkvNX1zDce"
      }
    }
  ]
}