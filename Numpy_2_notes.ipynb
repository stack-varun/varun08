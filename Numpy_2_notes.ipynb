{
  "nbformat": 4,
  "nbformat_minor": 0,
  "metadata": {
    "colab": {
      "provenance": [],
      "include_colab_link": true
    },
    "kernelspec": {
      "name": "python3",
      "display_name": "Python 3"
    },
    "language_info": {
      "name": "python"
    }
  },
  "cells": [
    {
      "cell_type": "markdown",
      "metadata": {
        "id": "view-in-github",
        "colab_type": "text"
      },
      "source": [
        "<a href=\"https://colab.research.google.com/github/stack-varun/varun08/blob/main/Numpy_2_notes.ipynb\" target=\"_parent\"><img src=\"https://colab.research.google.com/assets/colab-badge.svg\" alt=\"Open In Colab\"/></a>"
      ]
    },
    {
      "cell_type": "markdown",
      "source": [
        "# Numpy 2"
      ],
      "metadata": {
        "id": "IZgrkn3uZkNt"
      }
    },
    {
      "cell_type": "markdown",
      "source": [
        "---"
      ],
      "metadata": {
        "id": "Da487JrLx5Ax"
      }
    },
    {
      "cell_type": "markdown",
      "metadata": {
        "id": "axTfX41Q1tzv"
      },
      "source": [
        "## **Content**\n",
        "\n",
        "- Working with 2D arrays (Matrices)\n",
        "  - Transpose\n",
        "  - Indexing\n",
        "  - Slicing\n",
        "  - Fancy Indexing (Masking)\n",
        "- Aggregate Functions\n",
        "- Logical Operations\n",
        "  - `np.any()`\n",
        "  - `np.all()`\n",
        "  - `np.where()`\n",
        "- Use Case: Fitness data analysis"
      ]
    },
    {
      "cell_type": "markdown",
      "source": [
        "---"
      ],
      "metadata": {
        "id": "qSiGGcc3yIDm"
      }
    },
    {
      "cell_type": "markdown",
      "metadata": {
        "id": "ZA0uqFwD1t0i"
      },
      "source": [
        "## **Working with 2D arrays (Matrices)**\n",
        "\n",
        "Let's create an array -"
      ]
    },
    {
      "cell_type": "code",
      "source": [
        "import numpy as np\n",
        "a = np.array(range(16))\n",
        "a"
      ],
      "metadata": {
        "id": "vSpQigQK2tiu",
        "colab": {
          "base_uri": "https://localhost:8080/"
        },
        "outputId": "63963101-9a39-4810-e31b-b82bb6558f0a"
      },
      "execution_count": null,
      "outputs": [
        {
          "output_type": "execute_result",
          "data": {
            "text/plain": [
              "array([ 0,  1,  2,  3,  4,  5,  6,  7,  8,  9, 10, 11, 12, 13, 14, 15])"
            ]
          },
          "metadata": {},
          "execution_count": 1
        }
      ]
    },
    {
      "cell_type": "markdown",
      "source": [
        "What will be it's shape and dimensions?"
      ],
      "metadata": {
        "id": "bkxY5uWw2yJM"
      }
    },
    {
      "cell_type": "code",
      "source": [
        "a.shape"
      ],
      "metadata": {
        "id": "xGUz0CeR205W",
        "colab": {
          "base_uri": "https://localhost:8080/"
        },
        "outputId": "2a1e11df-1b0a-408f-dec6-2de1ff607675"
      },
      "execution_count": null,
      "outputs": [
        {
          "output_type": "execute_result",
          "data": {
            "text/plain": [
              "(16,)"
            ]
          },
          "metadata": {},
          "execution_count": 2
        }
      ]
    },
    {
      "cell_type": "code",
      "source": [
        "a.ndim"
      ],
      "metadata": {
        "id": "lxiYpPm821v4",
        "colab": {
          "base_uri": "https://localhost:8080/"
        },
        "outputId": "b3d8fe5e-6304-4168-80d9-0cef04b95325"
      },
      "execution_count": null,
      "outputs": [
        {
          "output_type": "execute_result",
          "data": {
            "text/plain": [
              "1"
            ]
          },
          "metadata": {},
          "execution_count": 3
        }
      ]
    },
    {
      "cell_type": "markdown",
      "source": [
        "#### How can we convert this array to a 2-dimensional array?\n",
        "\n",
        "- Using `reshape()`\n",
        "\n",
        "For a 2D array, we will have to specify the followings :-\n",
        "- **First argument** is **no. of rows**\n",
        "- **Second argument** is **no. of columns**\n",
        "\n",
        "\\\n",
        "Let's try converting it into a `8x2` array."
      ],
      "metadata": {
        "id": "_bKNUgUV29xt"
      }
    },
    {
      "cell_type": "code",
      "source": [
        "a.reshape(8, 2)"
      ],
      "metadata": {
        "id": "PDSN2LQ73K2y",
        "colab": {
          "base_uri": "https://localhost:8080/"
        },
        "outputId": "61f7fda5-1b62-483d-8d43-da2f3a9f4733"
      },
      "execution_count": null,
      "outputs": [
        {
          "output_type": "execute_result",
          "data": {
            "text/plain": [
              "array([[ 0,  1],\n",
              "       [ 2,  3],\n",
              "       [ 4,  5],\n",
              "       [ 6,  7],\n",
              "       [ 8,  9],\n",
              "       [10, 11],\n",
              "       [12, 13],\n",
              "       [14, 15]])"
            ]
          },
          "metadata": {},
          "execution_count": 4
        }
      ]
    },
    {
      "cell_type": "markdown",
      "source": [
        "Let's try converting it into a `4x4` array."
      ],
      "metadata": {
        "id": "BkuH2ggf3o8p"
      }
    },
    {
      "cell_type": "code",
      "source": [
        "a.reshape(4, 4)"
      ],
      "metadata": {
        "id": "SsGmSKSO3LSr",
        "colab": {
          "base_uri": "https://localhost:8080/"
        },
        "outputId": "cf179947-a33f-4530-850d-ef87da03229d"
      },
      "execution_count": null,
      "outputs": [
        {
          "output_type": "execute_result",
          "data": {
            "text/plain": [
              "array([[ 0,  1,  2,  3],\n",
              "       [ 4,  5,  6,  7],\n",
              "       [ 8,  9, 10, 11],\n",
              "       [12, 13, 14, 15]])"
            ]
          },
          "metadata": {},
          "execution_count": 5
        }
      ]
    },
    {
      "cell_type": "code",
      "source": [
        "a.reshape(4, 5)"
      ],
      "metadata": {
        "id": "v9joeJ45397X",
        "colab": {
          "base_uri": "https://localhost:8080/",
          "height": 179
        },
        "outputId": "375ab0dc-4821-4241-ad44-49176e832a50"
      },
      "execution_count": null,
      "outputs": [
        {
          "output_type": "error",
          "ename": "ValueError",
          "evalue": "cannot reshape array of size 16 into shape (4,5)",
          "traceback": [
            "\u001b[0;31m---------------------------------------------------------------------------\u001b[0m",
            "\u001b[0;31mValueError\u001b[0m                                Traceback (most recent call last)",
            "\u001b[0;32m<ipython-input-7-05ad01dfd0f5>\u001b[0m in \u001b[0;36m<cell line: 1>\u001b[0;34m()\u001b[0m\n\u001b[0;32m----> 1\u001b[0;31m \u001b[0ma\u001b[0m\u001b[0;34m.\u001b[0m\u001b[0mreshape\u001b[0m\u001b[0;34m(\u001b[0m\u001b[0;36m4\u001b[0m\u001b[0;34m,\u001b[0m \u001b[0;36m5\u001b[0m\u001b[0;34m)\u001b[0m\u001b[0;34m\u001b[0m\u001b[0;34m\u001b[0m\u001b[0m\n\u001b[0m",
            "\u001b[0;31mValueError\u001b[0m: cannot reshape array of size 16 into shape (4,5)"
          ]
        }
      ]
    },
    {
      "cell_type": "markdown",
      "source": [
        "**This will give an Error. Why?**\n",
        "\n",
        "* We have 16 elements in `a`, but `reshape(4, 5)` is trying to fill in `4x5 = 20` elements.\n",
        "* Therefore, whatever the shape we're trying to reshape to, must be able to incorporate the number of elements that we have.\n"
      ],
      "metadata": {
        "id": "OypYvUPA4ECF"
      }
    },
    {
      "cell_type": "code",
      "source": [
        "a.reshape(8, -1)"
      ],
      "metadata": {
        "id": "Zgd6V6vv5kda",
        "colab": {
          "base_uri": "https://localhost:8080/"
        },
        "outputId": "46773afd-0761-46c0-a6c9-87369abc0137"
      },
      "execution_count": null,
      "outputs": [
        {
          "output_type": "execute_result",
          "data": {
            "text/plain": [
              "array([[ 0,  1],\n",
              "       [ 2,  3],\n",
              "       [ 4,  5],\n",
              "       [ 6,  7],\n",
              "       [ 8,  9],\n",
              "       [10, 11],\n",
              "       [12, 13],\n",
              "       [14, 15]])"
            ]
          },
          "metadata": {},
          "execution_count": 8
        }
      ]
    },
    {
      "cell_type": "markdown",
      "source": [
        "Notice that Python automatically figured out what should be the replacement of `-1` argument, given that the first argument is `8`.\n",
        "\n",
        "We can also put `-1` as the first argument. As long as one argument is given, it will calculate the other one."
      ],
      "metadata": {
        "id": "RJnnrtBo5pBJ"
      }
    },
    {
      "cell_type": "markdown",
      "source": [
        "**What if we pass both args as `-1`?**"
      ],
      "metadata": {
        "id": "uJatBMOL6Yi2"
      }
    },
    {
      "cell_type": "code",
      "source": [
        "a.reshape(-1, -1)"
      ],
      "metadata": {
        "id": "q4q_XsYF6a5X",
        "colab": {
          "base_uri": "https://localhost:8080/",
          "height": 179
        },
        "outputId": "3cded09d-abc4-4267-e31c-529d012b9977"
      },
      "execution_count": null,
      "outputs": [
        {
          "output_type": "error",
          "ename": "ValueError",
          "evalue": "can only specify one unknown dimension",
          "traceback": [
            "\u001b[0;31m---------------------------------------------------------------------------\u001b[0m",
            "\u001b[0;31mValueError\u001b[0m                                Traceback (most recent call last)",
            "\u001b[0;32m<ipython-input-9-decf4fe03d74>\u001b[0m in \u001b[0;36m<cell line: 1>\u001b[0;34m()\u001b[0m\n\u001b[0;32m----> 1\u001b[0;31m \u001b[0ma\u001b[0m\u001b[0;34m.\u001b[0m\u001b[0mreshape\u001b[0m\u001b[0;34m(\u001b[0m\u001b[0;34m-\u001b[0m\u001b[0;36m1\u001b[0m\u001b[0;34m,\u001b[0m \u001b[0;34m-\u001b[0m\u001b[0;36m1\u001b[0m\u001b[0;34m)\u001b[0m\u001b[0;34m\u001b[0m\u001b[0;34m\u001b[0m\u001b[0m\n\u001b[0m",
            "\u001b[0;31mValueError\u001b[0m: can only specify one unknown dimension"
          ]
        }
      ]
    },
    {
      "cell_type": "markdown",
      "source": [
        "- You need to give at least one dimension."
      ],
      "metadata": {
        "id": "sfrLS-286e0J"
      }
    },
    {
      "cell_type": "markdown",
      "source": [
        "Let's save `a` as a `8 x 2` array (matrix) for now."
      ],
      "metadata": {
        "id": "TDTV9SuI6qjx"
      }
    },
    {
      "cell_type": "code",
      "source": [
        "a = a.reshape(8, 2)"
      ],
      "metadata": {
        "id": "qfjR4Qkm7Em1"
      },
      "execution_count": null,
      "outputs": []
    },
    {
      "cell_type": "markdown",
      "source": [
        "**What will be the length of `a`?**\n",
        "\n",
        "* It will be 8, since it contains 8 lists as it's elements.\n",
        "* Each of these lists have 2 elements, but that's a different thing.\n",
        "\n",
        "**Explanation: len(nd array) will give you the magnitude of first dimension**"
      ],
      "metadata": {
        "id": "UiQG1oTr7G8S"
      }
    },
    {
      "cell_type": "code",
      "source": [
        "len(a)"
      ],
      "metadata": {
        "id": "Xjw05oaw7Kwq",
        "colab": {
          "base_uri": "https://localhost:8080/"
        },
        "outputId": "cf9882cb-0c2f-4775-80c1-64afe902e587"
      },
      "execution_count": null,
      "outputs": [
        {
          "output_type": "execute_result",
          "data": {
            "text/plain": [
              "8"
            ]
          },
          "metadata": {},
          "execution_count": 11
        }
      ]
    },
    {
      "cell_type": "code",
      "source": [
        "len(a[0])"
      ],
      "metadata": {
        "id": "JQ7bC6iP7xyA",
        "colab": {
          "base_uri": "https://localhost:8080/"
        },
        "outputId": "0bde792c-7761-4ecc-de87-d9513692a4ab"
      },
      "execution_count": null,
      "outputs": [
        {
          "output_type": "execute_result",
          "data": {
            "text/plain": [
              "2"
            ]
          },
          "metadata": {},
          "execution_count": 12
        }
      ]
    },
    {
      "cell_type": "markdown",
      "source": [
        "---"
      ],
      "metadata": {
        "id": "oXP_5Y77z94h"
      }
    },
    {
      "cell_type": "markdown",
      "source": [
        "### **Transpose**\n",
        "\n",
        "Let's create a 2D numpy array."
      ],
      "metadata": {
        "id": "amN9RGI8-K1m"
      }
    },
    {
      "cell_type": "code",
      "source": [
        "a = np.arange(12).reshape(3,4)\n",
        "a"
      ],
      "metadata": {
        "id": "bsTwx_OX3LX7",
        "colab": {
          "base_uri": "https://localhost:8080/"
        },
        "outputId": "a6ceb366-5308-4ddf-afce-98b86eee2bb0"
      },
      "execution_count": null,
      "outputs": [
        {
          "output_type": "execute_result",
          "data": {
            "text/plain": [
              "array([[ 0,  1,  2,  3],\n",
              "       [ 4,  5,  6,  7],\n",
              "       [ 8,  9, 10, 11]])"
            ]
          },
          "metadata": {},
          "execution_count": 13
        }
      ]
    },
    {
      "cell_type": "code",
      "source": [
        "a.shape"
      ],
      "metadata": {
        "id": "Q8xKsZpA-0mZ",
        "colab": {
          "base_uri": "https://localhost:8080/"
        },
        "outputId": "3e20bf05-deaa-4937-c6a5-1bc8f70bbb9a"
      },
      "execution_count": null,
      "outputs": [
        {
          "output_type": "execute_result",
          "data": {
            "text/plain": [
              "(3, 4)"
            ]
          },
          "metadata": {},
          "execution_count": 14
        }
      ]
    },
    {
      "cell_type": "markdown",
      "source": [
        "There is another operation on a multi-dimensional array, known as **Transpose**.\n",
        "\n",
        "It basically means that the no. of rows is interchanged by no. of cols, and vice-versa."
      ],
      "metadata": {
        "id": "cRh-_qre-12v"
      }
    },
    {
      "cell_type": "code",
      "source": [
        "a.T"
      ],
      "metadata": {
        "id": "5hUMv3_j_I7t",
        "colab": {
          "base_uri": "https://localhost:8080/"
        },
        "outputId": "157aa097-68a7-430f-8dd4-1dc639a2ab26"
      },
      "execution_count": null,
      "outputs": [
        {
          "output_type": "execute_result",
          "data": {
            "text/plain": [
              "array([[ 0,  4,  8],\n",
              "       [ 1,  5,  9],\n",
              "       [ 2,  6, 10],\n",
              "       [ 3,  7, 11]])"
            ]
          },
          "metadata": {},
          "execution_count": 15
        }
      ]
    },
    {
      "cell_type": "markdown",
      "source": [
        "Let's verify the shape of this transpose array -"
      ],
      "metadata": {
        "id": "J9PM0x94_SIB"
      }
    },
    {
      "cell_type": "code",
      "source": [
        "a.T.shape"
      ],
      "metadata": {
        "id": "HaPJaL2S_VC5",
        "colab": {
          "base_uri": "https://localhost:8080/"
        },
        "outputId": "f386b154-3c49-452e-e335-cfdf0016bb89"
      },
      "execution_count": null,
      "outputs": [
        {
          "output_type": "execute_result",
          "data": {
            "text/plain": [
              "(4, 3)"
            ]
          },
          "metadata": {},
          "execution_count": 16
        }
      ]
    },
    {
      "cell_type": "markdown",
      "source": [
        "---"
      ],
      "metadata": {
        "id": "6zBJAobk0Gcw"
      }
    },
    {
      "cell_type": "markdown",
      "metadata": {
        "id": "Qjk7VTGSAJ6c"
      },
      "source": [
        "## **Indexing in 2D arrays**\n",
        "\n",
        "- Similar to Python lists"
      ]
    },
    {
      "cell_type": "markdown",
      "source": [
        "<img src = https://d2beiqkhq929f0.cloudfront.net/public_assets/assets/000/054/693/original/2dnp.png?1697949471 height = \"600\" width = \"700\">"
      ],
      "metadata": {
        "id": "cRfvG6dX1tw4"
      }
    },
    {
      "cell_type": "code",
      "source": [
        "a"
      ],
      "metadata": {
        "colab": {
          "base_uri": "https://localhost:8080/"
        },
        "id": "Rxi1rws7mlYV",
        "outputId": "ffd2ec47-f92d-4dd7-e69c-356b494a20b6"
      },
      "execution_count": null,
      "outputs": [
        {
          "output_type": "execute_result",
          "data": {
            "text/plain": [
              "array([[ 0,  1,  2,  3],\n",
              "       [ 4,  5,  6,  7],\n",
              "       [ 8,  9, 10, 11]])"
            ]
          },
          "metadata": {},
          "execution_count": 17
        }
      ]
    },
    {
      "cell_type": "markdown",
      "source": [
        "**Can we extract just the element `6` from `a`?**"
      ],
      "metadata": {
        "id": "CZXF1yOFmoBs"
      }
    },
    {
      "cell_type": "code",
      "source": [
        "# Accessing 2nd row and 3rd col -\n",
        "a[1, 2]"
      ],
      "metadata": {
        "id": "J1Gj6YV99wpJ",
        "colab": {
          "base_uri": "https://localhost:8080/"
        },
        "outputId": "16bc07de-6680-44bb-c269-834fca44f4fc"
      },
      "execution_count": null,
      "outputs": [
        {
          "output_type": "execute_result",
          "data": {
            "text/plain": [
              "6"
            ]
          },
          "metadata": {},
          "execution_count": 18
        }
      ]
    },
    {
      "cell_type": "markdown",
      "source": [
        "This can also be written as"
      ],
      "metadata": {
        "id": "o6KG9ZzH90o_"
      }
    },
    {
      "cell_type": "code",
      "source": [
        "a[1][2]"
      ],
      "metadata": {
        "id": "3OQxxEkq929x",
        "colab": {
          "base_uri": "https://localhost:8080/"
        },
        "outputId": "31061d10-8f5b-4e26-e72b-70bb94d8f3bb"
      },
      "execution_count": null,
      "outputs": [
        {
          "output_type": "execute_result",
          "data": {
            "text/plain": [
              "6"
            ]
          },
          "metadata": {},
          "execution_count": 19
        }
      ]
    },
    {
      "cell_type": "markdown",
      "source": [
        "---"
      ],
      "metadata": {
        "id": "f7iCpy2H0r3A"
      }
    },
    {
      "cell_type": "code",
      "execution_count": null,
      "metadata": {
        "id": "ygqRIP93AJ6d",
        "colab": {
          "base_uri": "https://localhost:8080/"
        },
        "outputId": "03ff005b-1018-4cc7-de4f-c5867300027e"
      },
      "outputs": [
        {
          "output_type": "execute_result",
          "data": {
            "text/plain": [
              "array([[1, 2, 3],\n",
              "       [4, 5, 6],\n",
              "       [7, 8, 9]])"
            ]
          },
          "metadata": {},
          "execution_count": 20
        }
      ],
      "source": [
        "m1 = np.arange(1,10).reshape((3,3))\n",
        "m1"
      ]
    },
    {
      "cell_type": "markdown",
      "metadata": {
        "id": "0mPY3gu8AJ6d"
      },
      "source": [
        "**What will be the output of this?**"
      ]
    },
    {
      "cell_type": "code",
      "execution_count": null,
      "metadata": {
        "id": "TfCUl6xpAJ6e",
        "colab": {
          "base_uri": "https://localhost:8080/"
        },
        "outputId": "a742df3e-ad1c-4829-e32f-cc4fd51d0ae9"
      },
      "outputs": [
        {
          "output_type": "execute_result",
          "data": {
            "text/plain": [
              "5"
            ]
          },
          "metadata": {},
          "execution_count": 21
        }
      ],
      "source": [
        "m1[1, 1] # m1[row,column]"
      ]
    },
    {
      "cell_type": "markdown",
      "metadata": {
        "id": "4Rcl57a1AJ6e"
      },
      "source": [
        "We saw how we can use list of indexes in numpy array."
      ]
    },
    {
      "cell_type": "code",
      "execution_count": null,
      "metadata": {
        "id": "4H11tcw8AJ6e"
      },
      "outputs": [],
      "source": [
        "m1 = np.array([100,200,300,400,500,600])"
      ]
    },
    {
      "cell_type": "markdown",
      "source": [
        "**Will this work now?**"
      ],
      "metadata": {
        "id": "CaGAhBl9APdz"
      }
    },
    {
      "cell_type": "code",
      "source": [
        "m1[2, 3]"
      ],
      "metadata": {
        "id": "tqqBoqwMASPo",
        "colab": {
          "base_uri": "https://localhost:8080/",
          "height": 179
        },
        "outputId": "f139ef3b-725f-425e-859d-c6c5c1a8b3b6"
      },
      "execution_count": null,
      "outputs": [
        {
          "output_type": "error",
          "ename": "IndexError",
          "evalue": "too many indices for array: array is 1-dimensional, but 2 were indexed",
          "traceback": [
            "\u001b[0;31m---------------------------------------------------------------------------\u001b[0m",
            "\u001b[0;31mIndexError\u001b[0m                                Traceback (most recent call last)",
            "\u001b[0;32m<ipython-input-23-963ce94bbe14>\u001b[0m in \u001b[0;36m<cell line: 1>\u001b[0;34m()\u001b[0m\n\u001b[0;32m----> 1\u001b[0;31m \u001b[0mm1\u001b[0m\u001b[0;34m[\u001b[0m\u001b[0;36m2\u001b[0m\u001b[0;34m,\u001b[0m \u001b[0;36m3\u001b[0m\u001b[0;34m]\u001b[0m\u001b[0;34m\u001b[0m\u001b[0;34m\u001b[0m\u001b[0m\n\u001b[0m",
            "\u001b[0;31mIndexError\u001b[0m: too many indices for array: array is 1-dimensional, but 2 were indexed"
          ]
        }
      ]
    },
    {
      "cell_type": "markdown",
      "source": [
        "**Note:**\n",
        "- Since `m1` is a 1D array, this will not work.\n",
        "- This is because there are no row and column entity here.\n",
        "\n",
        "Therefore, you cannot use the same syntax for 1D arrays, as you did with 2D arrays, and vice-versa.\n",
        "\n",
        "\\\n",
        "However with a little tweak in this code, we can access elements of `m1` at different positions/indices."
      ],
      "metadata": {
        "id": "9lvKzSZCAYK6"
      }
    },
    {
      "cell_type": "code",
      "source": [
        "m1[[2, 3]]"
      ],
      "metadata": {
        "id": "lw0FGQ16Aws8",
        "colab": {
          "base_uri": "https://localhost:8080/"
        },
        "outputId": "aba86707-6020-4387-9eab-b1928927f827"
      },
      "execution_count": null,
      "outputs": [
        {
          "output_type": "execute_result",
          "data": {
            "text/plain": [
              "array([300, 400])"
            ]
          },
          "metadata": {},
          "execution_count": 24
        }
      ]
    },
    {
      "cell_type": "markdown",
      "source": [
        "---"
      ],
      "metadata": {
        "id": "SLSCvy2c1GZP"
      }
    },
    {
      "cell_type": "markdown",
      "metadata": {
        "id": "_UnBC4OMBf7J"
      },
      "source": [
        "#### **How will you print the diagonal elements of the following 2D array?**"
      ]
    },
    {
      "cell_type": "code",
      "execution_count": null,
      "metadata": {
        "id": "E2VTJFRdBf7P",
        "colab": {
          "base_uri": "https://localhost:8080/"
        },
        "outputId": "2410df48-b29e-402e-e32e-140f499e2701"
      },
      "outputs": [
        {
          "output_type": "execute_result",
          "data": {
            "text/plain": [
              "array([[0, 1, 2],\n",
              "       [3, 4, 5],\n",
              "       [6, 7, 8]])"
            ]
          },
          "metadata": {},
          "execution_count": 25
        }
      ],
      "source": [
        "m1 = np.arange(9).reshape((3,3))\n",
        "m1"
      ]
    },
    {
      "cell_type": "code",
      "execution_count": null,
      "metadata": {
        "id": "-EXDg4fGBf7Q",
        "colab": {
          "base_uri": "https://localhost:8080/"
        },
        "outputId": "ec2893f4-5bd0-4ef5-d634-e5edfe6de3b0"
      },
      "outputs": [
        {
          "output_type": "execute_result",
          "data": {
            "text/plain": [
              "array([0, 4, 8])"
            ]
          },
          "metadata": {},
          "execution_count": 26
        }
      ],
      "source": [
        "m1[[0,1,2],[0,1,2]] # picking up element (0,0), (1,1) and (2,2)"
      ]
    },
    {
      "cell_type": "markdown",
      "source": [
        "When list of indexes is provided for both rows and cols, for example: `m1[[0,1,2],[0,1,2]]`\n",
        "\n",
        "It selects individual elements i.e. `m1[0][0], m1[1][1] and m2[2][2]`.\n",
        "\n",
        "\n"
      ],
      "metadata": {
        "id": "q6Y4kqzHB4lB"
      }
    },
    {
      "cell_type": "markdown",
      "source": [
        "---"
      ],
      "metadata": {
        "id": "jzUWqTLA1KBF"
      }
    },
    {
      "cell_type": "markdown",
      "metadata": {
        "id": "cKmm6fX21t1A"
      },
      "source": [
        "\n",
        "\n",
        "```\n",
        "# This is formatted as code\n",
        "```\n",
        "\n",
        "## **Slicing in 2D arrays**\n",
        "\n",
        "- We need to **provide two slice ranges**, one for **row** and one for **column**.\n",
        "- We can also **mix Indexing and Slicing**"
      ]
    },
    {
      "cell_type": "code",
      "execution_count": null,
      "metadata": {
        "id": "zQmukPpor5dz",
        "colab": {
          "base_uri": "https://localhost:8080/"
        },
        "outputId": "d334ca54-b4e7-40cc-eac8-15421b3f05ff"
      },
      "outputs": [
        {
          "output_type": "execute_result",
          "data": {
            "text/plain": [
              "array([[ 0,  1,  2,  3],\n",
              "       [ 4,  5,  6,  7],\n",
              "       [ 8,  9, 10, 11]])"
            ]
          },
          "metadata": {},
          "execution_count": 27
        }
      ],
      "source": [
        "m1 = np.arange(12).reshape(3,4)\n",
        "m1"
      ]
    },
    {
      "cell_type": "code",
      "execution_count": null,
      "metadata": {
        "id": "TtS5ZlBer8AE",
        "colab": {
          "base_uri": "https://localhost:8080/"
        },
        "outputId": "fca90b7b-451b-429f-a47d-e64e8b56a1c8"
      },
      "outputs": [
        {
          "output_type": "execute_result",
          "data": {
            "text/plain": [
              "array([[0, 1, 2, 3],\n",
              "       [4, 5, 6, 7]])"
            ]
          },
          "metadata": {},
          "execution_count": 28
        }
      ],
      "source": [
        "m1[:2] # gives first two rows"
      ]
    },
    {
      "cell_type": "markdown",
      "source": [
        "#### **How can we get columns from a 2D array?**"
      ],
      "metadata": {
        "id": "HmvTpXb5HW7j"
      }
    },
    {
      "cell_type": "code",
      "source": [
        "m1[:, :2] # gives first two columns"
      ],
      "metadata": {
        "id": "Tx28EXFXHaX1",
        "colab": {
          "base_uri": "https://localhost:8080/"
        },
        "outputId": "0338dc38-f85a-48f7-fae0-08fd58832a31"
      },
      "execution_count": null,
      "outputs": [
        {
          "output_type": "execute_result",
          "data": {
            "text/plain": [
              "array([[0, 1],\n",
              "       [4, 5],\n",
              "       [8, 9]])"
            ]
          },
          "metadata": {},
          "execution_count": 29
        }
      ]
    },
    {
      "cell_type": "code",
      "source": [
        "m1[:, 1:3] # gives 2nd and 3rd col"
      ],
      "metadata": {
        "id": "njPEUiS4E5nP",
        "colab": {
          "base_uri": "https://localhost:8080/"
        },
        "outputId": "b26d1129-350f-485b-8bc9-5313e171e292"
      },
      "execution_count": null,
      "outputs": [
        {
          "output_type": "execute_result",
          "data": {
            "text/plain": [
              "array([[ 1,  2],\n",
              "       [ 5,  6],\n",
              "       [ 9, 10]])"
            ]
          },
          "metadata": {},
          "execution_count": 30
        }
      ]
    },
    {
      "cell_type": "markdown",
      "source": [
        "---"
      ],
      "metadata": {
        "id": "-UF9Xv_G2J0x"
      }
    },
    {
      "cell_type": "markdown",
      "source": [
        "## **Fancy Indexing (Masking) in 2D arrays**\n",
        "\n",
        "> Add blockquote\n",
        "\n",
        "\n",
        "\n",
        "We did this for one dimensional arrays. Let's see if those concepts translate to 2D also.\n",
        "\n",
        "\\\n",
        "Suppose we have the matrix `m1` -"
      ],
      "metadata": {
        "id": "ZC_QxbwtLsaF"
      }
    },
    {
      "cell_type": "code",
      "source": [
        "m1 = np.arange(12).reshape(3, 4)\n",
        "m1"
      ],
      "metadata": {
        "id": "FNc4qsuyMCSw",
        "colab": {
          "base_uri": "https://localhost:8080/"
        },
        "outputId": "4916be18-c21a-4bf1-eb6d-963fa62b52f1"
      },
      "execution_count": null,
      "outputs": [
        {
          "output_type": "execute_result",
          "data": {
            "text/plain": [
              "array([[ 0,  1,  2,  3],\n",
              "       [ 4,  5,  6,  7],\n",
              "       [ 8,  9, 10, 11]])"
            ]
          },
          "metadata": {},
          "execution_count": 31
        }
      ]
    },
    {
      "cell_type": "markdown",
      "source": [
        "**What will be output of following?**"
      ],
      "metadata": {
        "id": "FK57DXr-MFMd"
      }
    },
    {
      "cell_type": "code",
      "source": [
        "m1 < 6"
      ],
      "metadata": {
        "id": "u_DFLot-MH6F",
        "colab": {
          "base_uri": "https://localhost:8080/"
        },
        "outputId": "8baa11eb-07f4-4e9e-d0ed-995151d882da"
      },
      "execution_count": null,
      "outputs": [
        {
          "output_type": "execute_result",
          "data": {
            "text/plain": [
              "array([[ True,  True,  True,  True],\n",
              "       [ True,  True, False, False],\n",
              "       [False, False, False, False]])"
            ]
          },
          "metadata": {},
          "execution_count": 32
        }
      ]
    },
    {
      "cell_type": "markdown",
      "metadata": {
        "id": "HuYJozTm1t1S"
      },
      "source": [
        "- A **matrix having boolean values** `True` and `False` is returned.\n",
        "- **We can use this boolean matrix to filter our array.**\n",
        "\n",
        "\\\n",
        "**Condition(s) will be passed instead of indices and slice ranges.**"
      ]
    },
    {
      "cell_type": "code",
      "execution_count": null,
      "metadata": {
        "id": "PDUvM1fK1t1T",
        "colab": {
          "base_uri": "https://localhost:8080/"
        },
        "outputId": "0bd9c7fb-945e-48f6-8ca6-073d1af29841"
      },
      "outputs": [
        {
          "output_type": "execute_result",
          "data": {
            "text/plain": [
              "array([0, 1, 2, 3, 4, 5])"
            ]
          },
          "metadata": {},
          "execution_count": 33
        }
      ],
      "source": [
        "m1[m1 < 6]"
      ]
    },
    {
      "cell_type": "markdown",
      "source": [
        "- Values corresponding to `True` are retained\n",
        "- Values corresponding to `False` are filtered out"
      ],
      "metadata": {
        "id": "xxu49k2X4EE0"
      }
    },
    {
      "cell_type": "markdown",
      "source": [
        "---"
      ],
      "metadata": {
        "id": "UIRANBWL3EEa"
      }
    },
    {
      "cell_type": "markdown",
      "source": [
        "[link text](https://)## **Aggregate Functions**"
      ],
      "metadata": {
        "id": "r_ExzwGgN44X"
      }
    },
    {
      "cell_type": "markdown",
      "metadata": {
        "id": "36d2c4c6"
      },
      "source": [
        "Numpy provides various universal functions that cover a wide variety of operations and perform **fast element-wise array operations**."
      ]
    },
    {
      "cell_type": "markdown",
      "source": [
        "#### How would calculate the sum of elements of an array?\n",
        "\n",
        "#### `np.sum()`\n",
        "\n",
        "- It sums all the values in a numpy array."
      ],
      "metadata": {
        "id": "tENw_OzD4WdW"
      }
    },
    {
      "cell_type": "code",
      "execution_count": null,
      "metadata": {
        "id": "cabc7e1f",
        "colab": {
          "base_uri": "https://localhost:8080/"
        },
        "outputId": "99155fd4-d48f-444c-b1f0-74da1abc03fc"
      },
      "outputs": [
        {
          "output_type": "execute_result",
          "data": {
            "text/plain": [
              "array([ 1,  2,  3,  4,  5,  6,  7,  8,  9, 10])"
            ]
          },
          "metadata": {},
          "execution_count": 34
        }
      ],
      "source": [
        "a = np.arange(1, 11)\n",
        "a"
      ]
    },
    {
      "cell_type": "code",
      "execution_count": null,
      "metadata": {
        "id": "26ff89b9",
        "colab": {
          "base_uri": "https://localhost:8080/"
        },
        "outputId": "31a822ad-b4ee-437a-cfa3-25cd96d4f3b1"
      },
      "outputs": [
        {
          "output_type": "execute_result",
          "data": {
            "text/plain": [
              "55"
            ]
          },
          "metadata": {},
          "execution_count": 35
        }
      ],
      "source": [
        "np.sum(a)"
      ]
    },
    {
      "cell_type": "markdown",
      "metadata": {
        "id": "80fcf497"
      },
      "source": [
        "#### What if we want to find the average value or median value of all the elements in an array?\n",
        "\n",
        "#### `np.mean()`\n",
        "\n",
        "- It gives the us mean of all values in a numpy array."
      ]
    },
    {
      "cell_type": "code",
      "execution_count": null,
      "metadata": {
        "id": "225a1264",
        "colab": {
          "base_uri": "https://localhost:8080/"
        },
        "outputId": "935dbf0c-5cf7-4037-f293-dc9dad300f66"
      },
      "outputs": [
        {
          "output_type": "execute_result",
          "data": {
            "text/plain": [
              "5.5"
            ]
          },
          "metadata": {},
          "execution_count": 36
        }
      ],
      "source": [
        "np.mean(a)"
      ]
    },
    {
      "cell_type": "markdown",
      "metadata": {
        "id": "8iQNMU2JoLk4"
      },
      "source": [
        "#### Now, we want to find the minimum / maximum value in the array.\n",
        "\n",
        "#### `np.min()` / `np.max()`"
      ]
    },
    {
      "cell_type": "code",
      "execution_count": null,
      "metadata": {
        "id": "4ZiYTSAHox4e",
        "colab": {
          "base_uri": "https://localhost:8080/"
        },
        "outputId": "b8fb664a-5a78-4e91-bc71-336bf9733703"
      },
      "outputs": [
        {
          "output_type": "execute_result",
          "data": {
            "text/plain": [
              "1"
            ]
          },
          "metadata": {},
          "execution_count": 37
        }
      ],
      "source": [
        "np.min(a)"
      ]
    },
    {
      "cell_type": "code",
      "execution_count": null,
      "metadata": {
        "id": "rX-Cnu_qpeuC",
        "colab": {
          "base_uri": "https://localhost:8080/"
        },
        "outputId": "d9e6a6e9-35b2-411a-ee5e-8f0b23ce7c99"
      },
      "outputs": [
        {
          "output_type": "execute_result",
          "data": {
            "text/plain": [
              "10"
            ]
          },
          "metadata": {},
          "execution_count": 38
        }
      ],
      "source": [
        "np.max(a)"
      ]
    },
    {
      "cell_type": "markdown",
      "source": [
        "Let's apply aggregate functions on 2D array."
      ],
      "metadata": {
        "id": "R1mXgmx8KTYb"
      }
    },
    {
      "cell_type": "code",
      "execution_count": null,
      "metadata": {
        "id": "PY4b_4SyfjeT",
        "colab": {
          "base_uri": "https://localhost:8080/"
        },
        "outputId": "03b4772f-5a20-4cba-9c35-5144d7bb0d4e"
      },
      "outputs": [
        {
          "output_type": "execute_result",
          "data": {
            "text/plain": [
              "array([[ 0,  1,  2,  3],\n",
              "       [ 4,  5,  6,  7],\n",
              "       [ 8,  9, 10, 11]])"
            ]
          },
          "metadata": {},
          "execution_count": 39
        }
      ],
      "source": [
        "a = np.arange(12).reshape(3, 4)\n",
        "a"
      ]
    },
    {
      "cell_type": "code",
      "execution_count": null,
      "metadata": {
        "id": "NP4yQMQ8fjeU",
        "colab": {
          "base_uri": "https://localhost:8080/"
        },
        "outputId": "b88158a3-4212-4dcb-8dfe-132c28480164"
      },
      "outputs": [
        {
          "output_type": "execute_result",
          "data": {
            "text/plain": [
              "66"
            ]
          },
          "metadata": {},
          "execution_count": 40
        }
      ],
      "source": [
        "np.sum(a)  # sums all the values present in the array"
      ]
    },
    {
      "cell_type": "markdown",
      "source": [
        "---"
      ],
      "metadata": {
        "id": "SI20VRW647dv"
      }
    },
    {
      "cell_type": "markdown",
      "metadata": {
        "id": "1955d7d4"
      },
      "source": [
        "### What if we want to do the elements row-wise or column-wise?\n",
        "\n",
        "- By **setting `axis` parameter**"
      ]
    },
    {
      "cell_type": "markdown",
      "source": [
        "#### What will `np.sum(a, axis=0)` do?\n",
        "\n",
        "- `np.sum(a, axis=0)` adds together values in **different rows**\n",
        "- `axis = 0` $\\rightarrow$ **Changes will happen along the vertical axis**\n",
        "- Summation of values happen **in the vertical direction**.\n",
        "- Rows collapse/merge when we do `axis=0`."
      ],
      "metadata": {
        "id": "M-uD3lpw5Ku5"
      }
    },
    {
      "cell_type": "code",
      "execution_count": null,
      "metadata": {
        "id": "a87cc8db",
        "colab": {
          "base_uri": "https://localhost:8080/"
        },
        "outputId": "8b0a5ef9-8551-4309-a6d0-b054b59a9663"
      },
      "outputs": [
        {
          "output_type": "execute_result",
          "data": {
            "text/plain": [
              "array([12, 15, 18, 21])"
            ]
          },
          "metadata": {},
          "execution_count": 41
        }
      ],
      "source": [
        "np.sum(a, axis=0)"
      ]
    },
    {
      "cell_type": "markdown",
      "metadata": {
        "id": "e518c042"
      },
      "source": [
        "#### What if we specify `axis=1`?\n",
        "\n",
        "- `np.sum(a, axis=1)` adds together values in **different columns**\n",
        "- `axis = 1` $\\rightarrow$ **Changes will happen along the horizontal axis**\n",
        "- Summation of values happen **in the horizontal direction**.\n",
        "- Columns collapse/merge when we do `axis=1`."
      ]
    },
    {
      "cell_type": "code",
      "execution_count": null,
      "metadata": {
        "id": "8d7587cb",
        "colab": {
          "base_uri": "https://localhost:8080/"
        },
        "outputId": "8f7d4a23-041e-42fe-acff-a28b853594d1"
      },
      "outputs": [
        {
          "output_type": "execute_result",
          "data": {
            "text/plain": [
              "array([ 6, 22, 38])"
            ]
          },
          "metadata": {},
          "execution_count": 42
        }
      ],
      "source": [
        "np.sum(a, axis=1)"
      ]
    },
    {
      "cell_type": "markdown",
      "source": [
        "---"
      ],
      "metadata": {
        "id": "x3hsSh0B5kWt"
      }
    },
    {
      "cell_type": "markdown",
      "source": [
        "**bold text**## **Logical Operations**"
      ],
      "metadata": {
        "id": "1skQodlmgqT4"
      }
    },
    {
      "cell_type": "markdown",
      "metadata": {
        "id": "5ZtaYWzkgqUQ"
      },
      "source": [
        "#### What if we want to check whether **\"any\"** element of array follows a specific condition?\n",
        "\n",
        "#### `np.any()`\n",
        "\n",
        "- returns `True` if **any of the corresponding elements** in the argument arrays follow the **provided condition**.\n"
      ]
    },
    {
      "cell_type": "markdown",
      "metadata": {
        "id": "rwbF577fgqUS"
      },
      "source": [
        "Imagine you have a shopping list with items you need to buy, but you're not sure if you have enough money to buy everything.\n",
        "\n",
        "You want to check if there's at least one item on your list that you can afford.\n",
        "\n",
        "In this case, you can use `np.any`:\n"
      ]
    },
    {
      "cell_type": "code",
      "execution_count": null,
      "metadata": {
        "id": "Ogz7mCzvgqUT",
        "colab": {
          "base_uri": "https://localhost:8080/"
        },
        "outputId": "7f3dd13a-e577-4915-92e7-59335f176b11"
      },
      "outputs": [
        {
          "output_type": "stream",
          "name": "stdout",
          "text": [
            "You can buy at least one item on your list!\n"
          ]
        }
      ],
      "source": [
        "import numpy as np\n",
        "\n",
        "# Prices of items on your shopping list\n",
        "prices = np.array([50, 45, 25, 20, 35])\n",
        "\n",
        "# Your budget\n",
        "budget = 30\n",
        "\n",
        "# Check if there's at least one item you can afford\n",
        "can_afford = np.any(prices <= budget)\n",
        "\n",
        "if can_afford:\n",
        "    print(\"You can buy at least one item on your list!\")\n",
        "else:\n",
        "    print(\"Sorry, nothing on your list fits your budget.\")"
      ]
    },
    {
      "cell_type": "markdown",
      "source": [
        "---"
      ],
      "metadata": {
        "id": "9q2qJZoJ6Uz8"
      }
    },
    {
      "cell_type": "markdown",
      "metadata": {
        "id": "KLsY7jiSgqUV"
      },
      "source": [
        "#### What if we want to check whether \"all\" the elements in our array follow a specific condition?\n",
        "\n",
        "#### `np.all()`\n",
        "\n",
        "- returns `True` if **all the elements** in the argument arrays follow the **provided condition**.\n",
        "\n"
      ]
    },
    {
      "cell_type": "markdown",
      "source": [
        "Let's consider a scenario where you have a list of chores, and you want to make sure all the chores are done before you can play video games.\n",
        "\n",
        "You can use `np.all` to check if all the chores are completed."
      ],
      "metadata": {
        "id": "T2FT_MJH7FNh"
      }
    },
    {
      "cell_type": "code",
      "source": [
        "import numpy as np\n",
        "\n",
        "# Chores status: 1 for done, 0 for not done\n",
        "chores = np.array([1, 1, 1, 1, 0])\n",
        "\n",
        "# Check if all chores are done\n",
        "all_chores_done = np.all(chores == 1)\n",
        "\n",
        "if all_chores_done:\n",
        "    print(\"Great job! You've completed all your chores. Time to play!\")\n",
        "else:\n",
        "    print(\"Finish all your chores before you can play.\")\n"
      ],
      "metadata": {
        "id": "f8mpHfDMAp1F",
        "colab": {
          "base_uri": "https://localhost:8080/"
        },
        "outputId": "56270316-78d7-4410-9412-35e3902a57b5"
      },
      "execution_count": null,
      "outputs": [
        {
          "output_type": "stream",
          "name": "stdout",
          "text": [
            "Finish all your chores before you can play.\n"
          ]
        }
      ]
    },
    {
      "cell_type": "markdown",
      "metadata": {
        "id": "WNB_mE0LgqUX"
      },
      "source": [
        "**Multiple conditions for `.all()` function -**"
      ]
    },
    {
      "cell_type": "code",
      "execution_count": null,
      "metadata": {
        "id": "sbrgHu4SgqUY",
        "colab": {
          "base_uri": "https://localhost:8080/"
        },
        "outputId": "ec1a2523-09a4-4864-b8de-8a0418938e1d"
      },
      "outputs": [
        {
          "output_type": "execute_result",
          "data": {
            "text/plain": [
              "True"
            ]
          },
          "metadata": {},
          "execution_count": 45
        }
      ],
      "source": [
        "a = np.array([1, 2, 3, 2])\n",
        "b = np.array([2, 2, 3, 2])\n",
        "c = np.array([6, 4, 4, 5])\n",
        "\n",
        "((a <= b) & (b <= c)).all()"
      ]
    },
    {
      "cell_type": "markdown",
      "source": [
        "---"
      ],
      "metadata": {
        "id": "f5wav9A67sB8"
      }
    },
    {
      "cell_type": "markdown",
      "source": [
        "#### What if we want to update an array based on condition?\n",
        "\n",
        "Suppose you are given an array of integers and you want to update it based on following condition :\n",
        "- if element is > 0, change it to +1\n",
        "- if element < 0, change it to -1.\n",
        "\n",
        "**How will you do it?**\n"
      ],
      "metadata": {
        "id": "sfhyqo4rgqUZ"
      }
    },
    {
      "cell_type": "code",
      "source": [
        "arr = np.array([-3,4,27,34,-2, 0, -45,-11,4, 0 ])\n",
        "arr"
      ],
      "metadata": {
        "id": "brS52BQxgqUa",
        "colab": {
          "base_uri": "https://localhost:8080/"
        },
        "outputId": "20575cce-90a0-4b71-ff1d-cec87d07a9b1"
      },
      "execution_count": null,
      "outputs": [
        {
          "output_type": "execute_result",
          "data": {
            "text/plain": [
              "array([ -3,   4,  27,  34,  -2,   0, -45, -11,   4,   0])"
            ]
          },
          "metadata": {},
          "execution_count": 46
        }
      ]
    },
    {
      "cell_type": "markdown",
      "source": [
        "You can use masking to update the array."
      ],
      "metadata": {
        "id": "WjF0n1sK71Sb"
      }
    },
    {
      "cell_type": "code",
      "source": [
        "arr[arr > 0]  = 1\n",
        "arr [arr < 0] = -1"
      ],
      "metadata": {
        "id": "jQJGtjqwgqUa"
      },
      "execution_count": null,
      "outputs": []
    },
    {
      "cell_type": "code",
      "source": [
        "arr"
      ],
      "metadata": {
        "id": "YES_pd2mgqUb",
        "colab": {
          "base_uri": "https://localhost:8080/"
        },
        "outputId": "a8649376-9cde-4b13-8a9c-05a70b5c5fdf"
      },
      "execution_count": null,
      "outputs": [
        {
          "output_type": "execute_result",
          "data": {
            "text/plain": [
              "array([-1,  1,  1,  1, -1,  0, -1, -1,  1,  0])"
            ]
          },
          "metadata": {},
          "execution_count": 48
        }
      ]
    },
    {
      "cell_type": "markdown",
      "source": [
        "There's also a numpy function which can help us with it.\n",
        "\n",
        "#### `np.where()`\n",
        "\n",
        "- Syntax: `np.where(condition, [x, y])`\n",
        "- returns an `ndarray` whose elements are chosen from `x` or `y` depending on condition.\n"
      ],
      "metadata": {
        "id": "6B_AGtmdrElA"
      }
    },
    {
      "cell_type": "markdown",
      "source": [
        "Suppose you have a list of product prices, and you want to apply a **10%** discount to all products with prices above **$50**.\n",
        "\n",
        "You can use `np.where` to adjust the prices."
      ],
      "metadata": {
        "id": "0YamHaojBOe4"
      }
    },
    {
      "cell_type": "code",
      "source": [
        "import numpy as np\n",
        "\n",
        "# Product prices\n",
        "prices = np.array([45, 55, 60, 75, 40, 90])\n",
        "\n",
        "# Apply a 10% discount to prices above $50\n",
        "discounted_prices = np.where(prices > 50, prices * 0.9, prices)\n",
        "\n",
        "print(\"Original prices:\", prices)\n",
        "print(\"Discounted prices:\", discounted_prices)"
      ],
      "metadata": {
        "colab": {
          "base_uri": "https://localhost:8080/"
        },
        "id": "vJSPgKnvBWgK",
        "outputId": "90e2bb0f-3db3-4745-ffb1-8ad9e7b4796f"
      },
      "execution_count": null,
      "outputs": [
        {
          "output_type": "stream",
          "name": "stdout",
          "text": [
            "Original prices: [45 55 60 75 40 90]\n",
            "Discounted prices: [45.  49.5 54.  67.5 40.  81. ]\n"
          ]
        }
      ]
    },
    {
      "cell_type": "markdown",
      "source": [
        "\n",
        "\n",
        "```\n",
        "# This is formatted as code\n",
        "```\n",
        "\n",
        "**Notice that it didn't change the original array.**"
      ],
      "metadata": {
        "id": "AwoTcM7XrwOo"
      }
    },
    {
      "cell_type": "markdown",
      "source": [
        "---"
      ],
      "metadata": {
        "id": "YIvKVpfc8bk-"
      }
    },
    {
      "cell_type": "markdown",
      "source": [
        "\n",
        "\n",
        "```\n",
        "# This is formatted as code\n",
        "```\n",
        "\n",
        "## **Use Case: Fitness data analysis**\n"
      ],
      "metadata": {
        "id": "IaLQaPpPcRwy"
      }
    },
    {
      "cell_type": "markdown",
      "metadata": {
        "id": "VSVU-5ScMbDp"
      },
      "source": [
        "Imagine you are a Data Scientist at Fitbit\n",
        "\n",
        "You've been given a user data to analyse and find some insights which can be shown on the smart watch.\n",
        "\n",
        "\\\n",
        "But why would we want to analyse the user data for desiging the watch?\n",
        "\n",
        "These insights from the user data can help business make customer oriented decision for the product design.\n",
        "\n",
        "\\\n",
        "Let's first look at the data we have gathered.\n",
        "\n",
        "<img src='https://drive.google.com/uc?id=1Uxwd4H-tfM64giRS1VExMpQXKtBBtuP0'>\n"
      ]
    },
    {
      "cell_type": "markdown",
      "metadata": {
        "id": "d4ad3b77"
      },
      "source": [
        "Notice that our data is structured in a tabular format.\n",
        "- Each column is known as a feature.\n",
        "- Each row is known as a record."
      ]
    },
    {
      "cell_type": "markdown",
      "source": [
        "### **Basic EDA**\n",
        "\n",
        "Performing **Exploratory Data Analysis (EDA)** is like being a detective for numbers and information.\n",
        "\n",
        "Imagine you have a big box of colorful candies. EDA is like looking at all the candies, counting how many of each color there are, and maybe even making a pretty picture to show which colors you have the most of. This way, you can learn a lot about your candies without eating them all at once!\n",
        "\n",
        "<img src=\"https://drive.google.com/uc?id=1vtCOcuucK68MfYw4rneNWmDHX99kEJc6\">\n",
        "\n",
        "So, EDA is about looking at your things, which is data in this case, to understand them better and find out interesting stuff about them.\n",
        "\n",
        "Formally defining, Exploratory Data Analysis (EDA) is a process of **examining**, **summarizing**, and **visualizing** data sets to understand their main characteristics, uncover patterns that helps analysts and data scientists gain insights into the data, make informed decisions, and guide further analysis or modeling.\n"
      ],
      "metadata": {
        "id": "sCPUYJY20ZMr"
      }
    },
    {
      "cell_type": "markdown",
      "source": [
        "First, we will import numpy."
      ],
      "metadata": {
        "id": "N06-qHKk0mzf"
      }
    },
    {
      "cell_type": "code",
      "source": [
        "import numpy as np"
      ],
      "metadata": {
        "id": "EEbra6CD0kvc"
      },
      "execution_count": null,
      "outputs": []
    },
    {
      "cell_type": "markdown",
      "source": [
        "Let's load the data that we saw earlier.\n",
        "\n",
        "- For this, we will use the `.loadtxt()` function."
      ],
      "metadata": {
        "id": "YpOnNNO0kgCt"
      }
    },
    {
      "cell_type": "code",
      "source": [
        "!gdown https://drive.google.com/uc?id=1vk1Pu0djiYcrdc85yUXZ_Rqq2oZNcohd"
      ],
      "metadata": {
        "id": "QVn9tdYmixga",
        "colab": {
          "base_uri": "https://localhost:8080/"
        },
        "outputId": "474d34dc-faa6-4598-e67b-011318603624"
      },
      "execution_count": null,
      "outputs": [
        {
          "output_type": "stream",
          "name": "stdout",
          "text": [
            "Downloading...\n",
            "From: https://drive.google.com/uc?id=1vk1Pu0djiYcrdc85yUXZ_Rqq2oZNcohd\n",
            "To: /content/fit.txt\n",
            "\r  0% 0.00/3.43k [00:00<?, ?B/s]\r100% 3.43k/3.43k [00:00<00:00, 11.3MB/s]\n"
          ]
        }
      ]
    },
    {
      "cell_type": "code",
      "source": [
        "data = np.loadtxt('/content/fit.txt', dtype='str')\n",
        "data"
      ],
      "metadata": {
        "id": "uJv62BFUi0HN",
        "colab": {
          "base_uri": "https://localhost:8080/"
        },
        "outputId": "266d1644-c090-4d2d-ef74-08beddd3ed6e"
      },
      "execution_count": null,
      "outputs": [
        {
          "output_type": "execute_result",
          "data": {
            "text/plain": [
              "array([['06-10-2017', '5464', 'Neutral', '181', '5', 'Inactive'],\n",
              "       ['07-10-2017', '6041', 'Sad', '197', '8', 'Inactive'],\n",
              "       ['08-10-2017', '25', 'Sad', '0', '5', 'Inactive'],\n",
              "       ['09-10-2017', '5461', 'Sad', '174', '4', 'Inactive'],\n",
              "       ['10-10-2017', '6915', 'Neutral', '223', '5', 'Active'],\n",
              "       ['11-10-2017', '4545', 'Sad', '149', '6', 'Inactive'],\n",
              "       ['12-10-2017', '4340', 'Sad', '140', '6', 'Inactive'],\n",
              "       ['13-10-2017', '1230', 'Sad', '38', '7', 'Inactive'],\n",
              "       ['14-10-2017', '61', 'Sad', '1', '5', 'Inactive'],\n",
              "       ['15-10-2017', '1258', 'Sad', '40', '6', 'Inactive'],\n",
              "       ['16-10-2017', '3148', 'Sad', '101', '8', 'Inactive'],\n",
              "       ['17-10-2017', '4687', 'Sad', '152', '5', 'Inactive'],\n",
              "       ['18-10-2017', '4732', 'Happy', '150', '6', 'Active'],\n",
              "       ['19-10-2017', '3519', 'Sad', '113', '7', 'Inactive'],\n",
              "       ['20-10-2017', '1580', 'Sad', '49', '5', 'Inactive'],\n",
              "       ['21-10-2017', '2822', 'Sad', '86', '6', 'Inactive'],\n",
              "       ['22-10-2017', '181', 'Sad', '6', '8', 'Inactive'],\n",
              "       ['23-10-2017', '3158', 'Neutral', '99', '5', 'Inactive'],\n",
              "       ['24-10-2017', '4383', 'Neutral', '143', '4', 'Inactive'],\n",
              "       ['25-10-2017', '3881', 'Neutral', '125', '5', 'Inactive'],\n",
              "       ['26-10-2017', '4037', 'Neutral', '129', '6', 'Inactive'],\n",
              "       ['27-10-2017', '202', 'Neutral', '6', '8', 'Inactive'],\n",
              "       ['28-10-2017', '292', 'Neutral', '9', '5', 'Inactive'],\n",
              "       ['29-10-2017', '330', 'Happy', '10', '6', 'Inactive'],\n",
              "       ['30-10-2017', '2209', 'Neutral', '72', '5', 'Inactive'],\n",
              "       ['31-10-2017', '4550', 'Happy', '150', '8', 'Active'],\n",
              "       ['01-11-2017', '4435', 'Happy', '141', '5', 'Inactive'],\n",
              "       ['02-11-2017', '4779', 'Happy', '156', '4', 'Inactive'],\n",
              "       ['03-11-2017', '1831', 'Happy', '57', '5', 'Inactive'],\n",
              "       ['04-11-2017', '2255', 'Happy', '72', '4', 'Inactive'],\n",
              "       ['05-11-2017', '539', 'Happy', '17', '5', 'Active'],\n",
              "       ['06-11-2017', '5464', 'Happy', '181', '4', 'Inactive'],\n",
              "       ['07-11-2017', '6041', 'Neutral', '197', '3', 'Inactive'],\n",
              "       ['08-11-2017', '4068', 'Happy', '131', '2', 'Inactive'],\n",
              "       ['09-11-2017', '4683', 'Happy', '154', '9', 'Inactive'],\n",
              "       ['10-11-2017', '4033', 'Happy', '137', '5', 'Inactive'],\n",
              "       ['11-11-2017', '6314', 'Happy', '193', '6', 'Active'],\n",
              "       ['12-11-2017', '614', 'Happy', '19', '4', 'Active'],\n",
              "       ['13-11-2017', '3149', 'Happy', '101', '5', 'Active'],\n",
              "       ['14-11-2017', '4005', 'Happy', '139', '8', 'Active'],\n",
              "       ['15-11-2017', '4880', 'Happy', '164', '4', 'Active'],\n",
              "       ['16-11-2017', '4136', 'Happy', '137', '5', 'Active'],\n",
              "       ['17-11-2017', '705', 'Happy', '22', '6', 'Active'],\n",
              "       ['18-11-2017', '570', 'Neutral', '17', '5', 'Active'],\n",
              "       ['19-11-2017', '269', 'Happy', '9', '6', 'Active'],\n",
              "       ['20-11-2017', '4275', 'Happy', '145', '5', 'Inactive'],\n",
              "       ['21-11-2017', '5999', 'Happy', '192', '6', 'Inactive'],\n",
              "       ['22-11-2017', '4421', 'Happy', '146', '5', 'Inactive'],\n",
              "       ['23-11-2017', '6930', 'Happy', '234', '6', 'Inactive'],\n",
              "       ['24-11-2017', '5195', 'Happy', '167', '5', 'Inactive'],\n",
              "       ['25-11-2017', '546', 'Happy', '16', '6', 'Inactive'],\n",
              "       ['26-11-2017', '493', 'Happy', '17', '7', 'Active'],\n",
              "       ['27-11-2017', '995', 'Happy', '32', '6', 'Active'],\n",
              "       ['28-11-2017', '1163', 'Neutral', '35', '7', 'Active'],\n",
              "       ['29-11-2017', '6676', 'Sad', '220', '6', 'Active'],\n",
              "       ['30-11-2017', '3608', 'Happy', '116', '5', 'Active'],\n",
              "       ['01-12-2017', '774', 'Happy', '23', '6', 'Active'],\n",
              "       ['02-12-2017', '1421', 'Happy', '44', '7', 'Active'],\n",
              "       ['03-12-2017', '4064', 'Happy', '131', '8', 'Active'],\n",
              "       ['04-12-2017', '2725', 'Happy', '86', '8', 'Active'],\n",
              "       ['05-12-2017', '5934', 'Happy', '194', '7', 'Active'],\n",
              "       ['06-12-2017', '1867', 'Happy', '60', '8', 'Active'],\n",
              "       ['07-12-2017', '3721', 'Sad', '121', '5', 'Active'],\n",
              "       ['08-12-2017', '2374', 'Neutral', '76', '4', 'Inactive'],\n",
              "       ['09-12-2017', '2909', 'Neutral', '93', '3', 'Active'],\n",
              "       ['10-12-2017', '1648', 'Sad', '53', '3', 'Active'],\n",
              "       ['11-12-2017', '799', 'Sad', '25', '4', 'Inactive'],\n",
              "       ['12-12-2017', '7102', 'Neutral', '227', '5', 'Active'],\n",
              "       ['13-12-2017', '3941', 'Neutral', '125', '5', 'Active'],\n",
              "       ['14-12-2017', '7422', 'Happy', '243', '5', 'Active'],\n",
              "       ['15-12-2017', '437', 'Neutral', '14', '3', 'Active'],\n",
              "       ['16-12-2017', '1231', 'Neutral', '39', '4', 'Active'],\n",
              "       ['17-12-2017', '1696', 'Sad', '55', '4', 'Inactive'],\n",
              "       ['18-12-2017', '4921', 'Neutral', '158', '5', 'Active'],\n",
              "       ['19-12-2017', '221', 'Sad', '7', '5', 'Active'],\n",
              "       ['20-12-2017', '6500', 'Neutral', '213', '5', 'Active'],\n",
              "       ['21-12-2017', '3575', 'Neutral', '116', '5', 'Active'],\n",
              "       ['22-12-2017', '4061', 'Sad', '129', '5', 'Inactive'],\n",
              "       ['23-12-2017', '651', 'Sad', '21', '5', 'Inactive'],\n",
              "       ['24-12-2017', '753', 'Sad', '28', '4', 'Inactive'],\n",
              "       ['25-12-2017', '518', 'Sad', '16', '3', 'Inactive'],\n",
              "       ['26-12-2017', '5537', 'Happy', '180', '4', 'Active'],\n",
              "       ['27-12-2017', '4108', 'Neutral', '138', '5', 'Active'],\n",
              "       ['28-12-2017', '5376', 'Happy', '176', '5', 'Active'],\n",
              "       ['29-12-2017', '3066', 'Neutral', '99', '4', 'Active'],\n",
              "       ['30-12-2017', '177', 'Sad', '5', '5', 'Inactive'],\n",
              "       ['31-12-2017', '36', 'Sad', '1', '3', 'Inactive'],\n",
              "       ['01-01-2018', '299', 'Sad', '10', '3', 'Inactive'],\n",
              "       ['02-01-2018', '1447', 'Neutral', '47', '3', 'Inactive'],\n",
              "       ['03-01-2018', '2599', 'Neutral', '84', '2', 'Inactive'],\n",
              "       ['04-01-2018', '702', 'Sad', '23', '3', 'Inactive'],\n",
              "       ['05-01-2018', '133', 'Sad', '4', '2', 'Inactive'],\n",
              "       ['06-01-2018', '153', 'Happy', '0', '8', 'Inactive'],\n",
              "       ['07-01-2018', '500', 'Neutral', '0', '5', 'Active'],\n",
              "       ['08-01-2018', '2127', 'Neutral', '0', '5', 'Inactive'],\n",
              "       ['09-01-2018', '2203', 'Happy', '0', '5', 'Active']], dtype='<U10')"
            ]
          },
          "metadata": {},
          "execution_count": 52
        }
      ]
    },
    {
      "cell_type": "markdown",
      "source": [
        "We provide the file name along with the dtype of data that we want to load in.\n"
      ],
      "metadata": {
        "id": "QbfF6l3bksKk"
      }
    },
    {
      "cell_type": "markdown",
      "source": [
        "What's the shape of this data?"
      ],
      "metadata": {
        "id": "8U6EEqXIk10d"
      }
    },
    {
      "cell_type": "code",
      "source": [
        "data.shape"
      ],
      "metadata": {
        "id": "M3u0HyoYk_hn",
        "colab": {
          "base_uri": "https://localhost:8080/"
        },
        "outputId": "bf4bb504-75a8-4f40-e33f-bd02a905f3f2"
      },
      "execution_count": null,
      "outputs": [
        {
          "output_type": "execute_result",
          "data": {
            "text/plain": [
              "(96, 6)"
            ]
          },
          "metadata": {},
          "execution_count": 53
        }
      ]
    },
    {
      "cell_type": "markdown",
      "source": [
        "What's the dimensionality?"
      ],
      "metadata": {
        "id": "y-LFqsbD1W65"
      }
    },
    {
      "cell_type": "code",
      "source": [
        "data.ndim"
      ],
      "metadata": {
        "id": "s-5CUiYT1Zjo",
        "colab": {
          "base_uri": "https://localhost:8080/"
        },
        "outputId": "92a0feae-2083-4ea2-c7a7-7472a1dfec56"
      },
      "execution_count": null,
      "outputs": [
        {
          "output_type": "execute_result",
          "data": {
            "text/plain": [
              "2"
            ]
          },
          "metadata": {},
          "execution_count": 54
        }
      ]
    },
    {
      "cell_type": "markdown",
      "source": [
        "We can see that this is a 2-dimensional list.\n",
        "\n",
        "There are 96 records and each record has 6 features.\n",
        "\n",
        "These features are:\n",
        "- Date\n",
        "- Step Count\n",
        "- Mood\n",
        "- Calories Burned\n",
        "- Hours of Sleep\n",
        "- Activity Status"
      ],
      "metadata": {
        "id": "dCybiORt1suR"
      }
    },
    {
      "cell_type": "markdown",
      "source": [
        "**Notice that above array is homogenous containing all the data as strings.**\n",
        "\n",
        "In order to work with strings, categorical data and numerical data, we'll have to save every feature seperately.\n",
        "\n",
        "\\\n",
        "**How will we extract features in seperate variables?**\n",
        "\n",
        "For that, we first need some idea on how data is saved.\n",
        "\n",
        "Let's see whats the first element of the `data`.\n"
      ],
      "metadata": {
        "id": "QuTXn38PlJdG"
      }
    },
    {
      "cell_type": "code",
      "source": [
        "data[0]"
      ],
      "metadata": {
        "id": "d5M-DM8UlB8e",
        "colab": {
          "base_uri": "https://localhost:8080/"
        },
        "outputId": "33c06ee6-0d7d-4737-d2bb-9e03403fe81f"
      },
      "execution_count": null,
      "outputs": [
        {
          "output_type": "execute_result",
          "data": {
            "text/plain": [
              "array(['06-10-2017', '5464', 'Neutral', '181', '5', 'Inactive'],\n",
              "      dtype='<U10')"
            ]
          },
          "metadata": {},
          "execution_count": 55
        }
      ]
    },
    {
      "cell_type": "markdown",
      "source": [
        "Hmm.. this extracts a row, not a column.\n",
        "\n",
        "Similarly, we can extract other specific rows.\n",
        "\n",
        "\n"
      ],
      "metadata": {
        "id": "05qjRBaS2Hup"
      }
    },
    {
      "cell_type": "code",
      "source": [
        "data[1]"
      ],
      "metadata": {
        "id": "U7QH0ipM2N_k",
        "colab": {
          "base_uri": "https://localhost:8080/"
        },
        "outputId": "81476112-219f-4f89-946d-4943230806fe"
      },
      "execution_count": null,
      "outputs": [
        {
          "output_type": "execute_result",
          "data": {
            "text/plain": [
              "array(['07-10-2017', '6041', 'Sad', '197', '8', 'Inactive'], dtype='<U10')"
            ]
          },
          "metadata": {},
          "execution_count": 56
        }
      ]
    },
    {
      "cell_type": "markdown",
      "source": [
        "We can also use slicing."
      ],
      "metadata": {
        "id": "8KX_4P2i2Q3d"
      }
    },
    {
      "cell_type": "code",
      "source": [
        "data[:5]"
      ],
      "metadata": {
        "id": "PXuAcuWSkmnv",
        "colab": {
          "base_uri": "https://localhost:8080/"
        },
        "outputId": "74be4be0-0211-4bc1-9d23-141d45022196"
      },
      "execution_count": null,
      "outputs": [
        {
          "output_type": "execute_result",
          "data": {
            "text/plain": [
              "array([['06-10-2017', '5464', 'Neutral', '181', '5', 'Inactive'],\n",
              "       ['07-10-2017', '6041', 'Sad', '197', '8', 'Inactive'],\n",
              "       ['08-10-2017', '25', 'Sad', '0', '5', 'Inactive'],\n",
              "       ['09-10-2017', '5461', 'Sad', '174', '4', 'Inactive'],\n",
              "       ['10-10-2017', '6915', 'Neutral', '223', '5', 'Active']],\n",
              "      dtype='<U10')"
            ]
          },
          "metadata": {},
          "execution_count": 57
        }
      ]
    },
    {
      "cell_type": "markdown",
      "source": [
        "### **FitBit Solution**"
      ],
      "metadata": {
        "id": "Za1PR_SAcCVY"
      }
    },
    {
      "cell_type": "markdown",
      "source": [
        "Now, we want to place all the **dates** into a single entity.\n",
        "\n",
        "**How to do that?**\n",
        "\n",
        "- One way is to just go ahead and fetch the column number 0 from all rows.\n",
        "- Another way is to, take a transpose of `data`.\n",
        "\n",
        "Let's see them both -"
      ],
      "metadata": {
        "id": "BemBMbxaHf_m"
      }
    },
    {
      "cell_type": "markdown",
      "source": [
        "> **Approach 1**"
      ],
      "metadata": {
        "id": "QOWbNMDRJ3Wc"
      }
    },
    {
      "cell_type": "code",
      "source": [
        "data[:, 0]"
      ],
      "metadata": {
        "id": "FGN2s7ZkJ69j",
        "colab": {
          "base_uri": "https://localhost:8080/"
        },
        "outputId": "6ff1016e-bf61-4dff-901b-265fb58811af"
      },
      "execution_count": null,
      "outputs": [
        {
          "output_type": "execute_result",
          "data": {
            "text/plain": [
              "array(['06-10-2017', '07-10-2017', '08-10-2017', '09-10-2017',\n",
              "       '10-10-2017', '11-10-2017', '12-10-2017', '13-10-2017',\n",
              "       '14-10-2017', '15-10-2017', '16-10-2017', '17-10-2017',\n",
              "       '18-10-2017', '19-10-2017', '20-10-2017', '21-10-2017',\n",
              "       '22-10-2017', '23-10-2017', '24-10-2017', '25-10-2017',\n",
              "       '26-10-2017', '27-10-2017', '28-10-2017', '29-10-2017',\n",
              "       '30-10-2017', '31-10-2017', '01-11-2017', '02-11-2017',\n",
              "       '03-11-2017', '04-11-2017', '05-11-2017', '06-11-2017',\n",
              "       '07-11-2017', '08-11-2017', '09-11-2017', '10-11-2017',\n",
              "       '11-11-2017', '12-11-2017', '13-11-2017', '14-11-2017',\n",
              "       '15-11-2017', '16-11-2017', '17-11-2017', '18-11-2017',\n",
              "       '19-11-2017', '20-11-2017', '21-11-2017', '22-11-2017',\n",
              "       '23-11-2017', '24-11-2017', '25-11-2017', '26-11-2017',\n",
              "       '27-11-2017', '28-11-2017', '29-11-2017', '30-11-2017',\n",
              "       '01-12-2017', '02-12-2017', '03-12-2017', '04-12-2017',\n",
              "       '05-12-2017', '06-12-2017', '07-12-2017', '08-12-2017',\n",
              "       '09-12-2017', '10-12-2017', '11-12-2017', '12-12-2017',\n",
              "       '13-12-2017', '14-12-2017', '15-12-2017', '16-12-2017',\n",
              "       '17-12-2017', '18-12-2017', '19-12-2017', '20-12-2017',\n",
              "       '21-12-2017', '22-12-2017', '23-12-2017', '24-12-2017',\n",
              "       '25-12-2017', '26-12-2017', '27-12-2017', '28-12-2017',\n",
              "       '29-12-2017', '30-12-2017', '31-12-2017', '01-01-2018',\n",
              "       '02-01-2018', '03-01-2018', '04-01-2018', '05-01-2018',\n",
              "       '06-01-2018', '07-01-2018', '08-01-2018', '09-01-2018'],\n",
              "      dtype='<U10')"
            ]
          },
          "metadata": {},
          "execution_count": 58
        }
      ]
    },
    {
      "cell_type": "markdown",
      "source": [
        "This gives all the dates."
      ],
      "metadata": {
        "id": "NADFn-OoJ_o3"
      }
    },
    {
      "cell_type": "markdown",
      "source": [
        "> **Approach 2**"
      ],
      "metadata": {
        "id": "vQR5LG5__r8k"
      }
    },
    {
      "cell_type": "code",
      "source": [
        "data_t = data.T"
      ],
      "metadata": {
        "id": "5moTEtNGH-Sz"
      },
      "execution_count": null,
      "outputs": []
    },
    {
      "cell_type": "markdown",
      "source": [
        "Don't you think all the dates will now be present in the first (i.e. index 0th element) of `data_t`?"
      ],
      "metadata": {
        "id": "IBbyn4F2IBja"
      }
    },
    {
      "cell_type": "code",
      "source": [
        "data_t[0]"
      ],
      "metadata": {
        "id": "iFiHcAvMAIUo",
        "colab": {
          "base_uri": "https://localhost:8080/"
        },
        "outputId": "cca9f77f-0366-40e5-f492-9a9ca8dbf0df"
      },
      "execution_count": null,
      "outputs": [
        {
          "output_type": "execute_result",
          "data": {
            "text/plain": [
              "array(['06-10-2017', '07-10-2017', '08-10-2017', '09-10-2017',\n",
              "       '10-10-2017', '11-10-2017', '12-10-2017', '13-10-2017',\n",
              "       '14-10-2017', '15-10-2017', '16-10-2017', '17-10-2017',\n",
              "       '18-10-2017', '19-10-2017', '20-10-2017', '21-10-2017',\n",
              "       '22-10-2017', '23-10-2017', '24-10-2017', '25-10-2017',\n",
              "       '26-10-2017', '27-10-2017', '28-10-2017', '29-10-2017',\n",
              "       '30-10-2017', '31-10-2017', '01-11-2017', '02-11-2017',\n",
              "       '03-11-2017', '04-11-2017', '05-11-2017', '06-11-2017',\n",
              "       '07-11-2017', '08-11-2017', '09-11-2017', '10-11-2017',\n",
              "       '11-11-2017', '12-11-2017', '13-11-2017', '14-11-2017',\n",
              "       '15-11-2017', '16-11-2017', '17-11-2017', '18-11-2017',\n",
              "       '19-11-2017', '20-11-2017', '21-11-2017', '22-11-2017',\n",
              "       '23-11-2017', '24-11-2017', '25-11-2017', '26-11-2017',\n",
              "       '27-11-2017', '28-11-2017', '29-11-2017', '30-11-2017',\n",
              "       '01-12-2017', '02-12-2017', '03-12-2017', '04-12-2017',\n",
              "       '05-12-2017', '06-12-2017', '07-12-2017', '08-12-2017',\n",
              "       '09-12-2017', '10-12-2017', '11-12-2017', '12-12-2017',\n",
              "       '13-12-2017', '14-12-2017', '15-12-2017', '16-12-2017',\n",
              "       '17-12-2017', '18-12-2017', '19-12-2017', '20-12-2017',\n",
              "       '21-12-2017', '22-12-2017', '23-12-2017', '24-12-2017',\n",
              "       '25-12-2017', '26-12-2017', '27-12-2017', '28-12-2017',\n",
              "       '29-12-2017', '30-12-2017', '31-12-2017', '01-01-2018',\n",
              "       '02-01-2018', '03-01-2018', '04-01-2018', '05-01-2018',\n",
              "       '06-01-2018', '07-01-2018', '08-01-2018', '09-01-2018'],\n",
              "      dtype='<U10')"
            ]
          },
          "metadata": {},
          "execution_count": 60
        }
      ]
    },
    {
      "cell_type": "markdown",
      "source": [
        "**Also, what will be the shape of `data_t`?**"
      ],
      "metadata": {
        "id": "zraFoysWIZoA"
      }
    },
    {
      "cell_type": "code",
      "source": [
        "data_t.shape"
      ],
      "metadata": {
        "id": "kId8nGFXIeR1",
        "colab": {
          "base_uri": "https://localhost:8080/"
        },
        "outputId": "1d017b22-3c24-4bea-df1b-203af1a182c7"
      },
      "execution_count": null,
      "outputs": [
        {
          "output_type": "execute_result",
          "data": {
            "text/plain": [
              "(6, 96)"
            ]
          },
          "metadata": {},
          "execution_count": 61
        }
      ]
    },
    {
      "cell_type": "markdown",
      "metadata": {
        "id": "7c0b8ebd"
      },
      "source": [
        "#### **Let's extract all the columns and save them in seperate variables.**"
      ]
    },
    {
      "cell_type": "code",
      "execution_count": null,
      "metadata": {
        "id": "Wk5qAYCJZGhG"
      },
      "outputs": [],
      "source": [
        "date, step_count, mood, calories_burned, hours_of_sleep, activity_status = data.T"
      ]
    },
    {
      "cell_type": "code",
      "execution_count": null,
      "metadata": {
        "id": "0w6WABJ0ZLnk",
        "colab": {
          "base_uri": "https://localhost:8080/"
        },
        "outputId": "67745630-c30b-44ae-909b-0e98babc04fd"
      },
      "outputs": [
        {
          "output_type": "execute_result",
          "data": {
            "text/plain": [
              "array(['5464', '6041', '25', '5461', '6915', '4545', '4340', '1230', '61',\n",
              "       '1258', '3148', '4687', '4732', '3519', '1580', '2822', '181',\n",
              "       '3158', '4383', '3881', '4037', '202', '292', '330', '2209',\n",
              "       '4550', '4435', '4779', '1831', '2255', '539', '5464', '6041',\n",
              "       '4068', '4683', '4033', '6314', '614', '3149', '4005', '4880',\n",
              "       '4136', '705', '570', '269', '4275', '5999', '4421', '6930',\n",
              "       '5195', '546', '493', '995', '1163', '6676', '3608', '774', '1421',\n",
              "       '4064', '2725', '5934', '1867', '3721', '2374', '2909', '1648',\n",
              "       '799', '7102', '3941', '7422', '437', '1231', '1696', '4921',\n",
              "       '221', '6500', '3575', '4061', '651', '753', '518', '5537', '4108',\n",
              "       '5376', '3066', '177', '36', '299', '1447', '2599', '702', '133',\n",
              "       '153', '500', '2127', '2203'], dtype='<U10')"
            ]
          },
          "metadata": {},
          "execution_count": 63
        }
      ],
      "source": [
        "step_count"
      ]
    },
    {
      "cell_type": "code",
      "execution_count": null,
      "metadata": {
        "id": "vRdFpj1SZXH2",
        "colab": {
          "base_uri": "https://localhost:8080/"
        },
        "outputId": "b93614e3-ec8d-4e45-e8d9-15643756e116"
      },
      "outputs": [
        {
          "output_type": "execute_result",
          "data": {
            "text/plain": [
              "dtype('<U10')"
            ]
          },
          "metadata": {},
          "execution_count": 64
        }
      ],
      "source": [
        "step_count.dtype"
      ]
    },
    {
      "cell_type": "markdown",
      "metadata": {
        "id": "Rx8mBaFhZRRR"
      },
      "source": [
        "Notice the data type of `step_count` and other variables.\n",
        "\n",
        "It's a string type where **U** means Unicode String and 10 means 10 bytes.\n",
        "\n",
        "**Why? Because Numpy type-casted all the data to strings.**"
      ]
    },
    {
      "cell_type": "markdown",
      "metadata": {
        "id": "S88ioILjYqfl"
      },
      "source": [
        "#### **Let's convert the data types of these variables.**"
      ]
    },
    {
      "cell_type": "markdown",
      "metadata": {
        "id": "3VHi8OGJaOJj"
      },
      "source": [
        "**Step Count**"
      ]
    },
    {
      "cell_type": "code",
      "execution_count": null,
      "metadata": {
        "id": "H46f-TVZZ8mB",
        "colab": {
          "base_uri": "https://localhost:8080/"
        },
        "outputId": "d537eb4c-9a4b-4e2d-8f9d-e0222882b582"
      },
      "outputs": [
        {
          "output_type": "execute_result",
          "data": {
            "text/plain": [
              "dtype('int64')"
            ]
          },
          "metadata": {},
          "execution_count": 65
        }
      ],
      "source": [
        "step_count = np.array(step_count, dtype='int')\n",
        "step_count.dtype"
      ]
    },
    {
      "cell_type": "code",
      "execution_count": null,
      "metadata": {
        "id": "SKlM7Cf5aAPo",
        "colab": {
          "base_uri": "https://localhost:8080/"
        },
        "outputId": "c5f493cf-628d-4193-94ec-4a2039830bb6"
      },
      "outputs": [
        {
          "output_type": "execute_result",
          "data": {
            "text/plain": [
              "array([5464, 6041,   25, 5461, 6915, 4545, 4340, 1230,   61, 1258, 3148,\n",
              "       4687, 4732, 3519, 1580, 2822,  181, 3158, 4383, 3881, 4037,  202,\n",
              "        292,  330, 2209, 4550, 4435, 4779, 1831, 2255,  539, 5464, 6041,\n",
              "       4068, 4683, 4033, 6314,  614, 3149, 4005, 4880, 4136,  705,  570,\n",
              "        269, 4275, 5999, 4421, 6930, 5195,  546,  493,  995, 1163, 6676,\n",
              "       3608,  774, 1421, 4064, 2725, 5934, 1867, 3721, 2374, 2909, 1648,\n",
              "        799, 7102, 3941, 7422,  437, 1231, 1696, 4921,  221, 6500, 3575,\n",
              "       4061,  651,  753,  518, 5537, 4108, 5376, 3066,  177,   36,  299,\n",
              "       1447, 2599,  702,  133,  153,  500, 2127, 2203])"
            ]
          },
          "metadata": {},
          "execution_count": 66
        }
      ],
      "source": [
        "step_count"
      ]
    },
    {
      "cell_type": "markdown",
      "source": [
        "**What will be shape of this array?**"
      ],
      "metadata": {
        "id": "2jcKlrkSJOcq"
      }
    },
    {
      "cell_type": "code",
      "source": [
        "step_count.shape"
      ],
      "metadata": {
        "id": "3J5pZRhwJRX3",
        "colab": {
          "base_uri": "https://localhost:8080/"
        },
        "outputId": "d66810c4-69be-4609-fe29-114ca67a9a60"
      },
      "execution_count": null,
      "outputs": [
        {
          "output_type": "execute_result",
          "data": {
            "text/plain": [
              "(96,)"
            ]
          },
          "metadata": {},
          "execution_count": 67
        }
      ]
    },
    {
      "cell_type": "markdown",
      "source": [
        "* We saw in last class that since it is a 1D array, its shape will be `(96, )`.\n",
        "* If it were a 2D array, its shape would've been `(96, 1)`."
      ],
      "metadata": {
        "id": "ZxR909ZUJbBr"
      }
    },
    {
      "cell_type": "markdown",
      "metadata": {
        "id": "EiicKEnqaQef"
      },
      "source": [
        "**Calories Burned**"
      ]
    },
    {
      "cell_type": "code",
      "execution_count": null,
      "metadata": {
        "id": "58wybBA8aSfJ",
        "colab": {
          "base_uri": "https://localhost:8080/"
        },
        "outputId": "76fd61af-2db5-4c9b-b438-7b374b2b77fd"
      },
      "outputs": [
        {
          "output_type": "execute_result",
          "data": {
            "text/plain": [
              "dtype('int64')"
            ]
          },
          "metadata": {},
          "execution_count": 68
        }
      ],
      "source": [
        "calories_burned = np.array(calories_burned, dtype='int')\n",
        "calories_burned.dtype"
      ]
    },
    {
      "cell_type": "markdown",
      "metadata": {
        "id": "Xy2ooExhaXg6"
      },
      "source": [
        "**Hours of Sleep**"
      ]
    },
    {
      "cell_type": "code",
      "execution_count": null,
      "metadata": {
        "id": "D-w8VvuEaTjn",
        "colab": {
          "base_uri": "https://localhost:8080/"
        },
        "outputId": "53813077-d483-425f-9913-ffdfc73e5655"
      },
      "outputs": [
        {
          "output_type": "execute_result",
          "data": {
            "text/plain": [
              "dtype('int64')"
            ]
          },
          "metadata": {},
          "execution_count": 69
        }
      ],
      "source": [
        "hours_of_sleep = np.array(hours_of_sleep, dtype='int')\n",
        "hours_of_sleep.dtype"
      ]
    },
    {
      "cell_type": "markdown",
      "metadata": {
        "id": "tf9hP1fUanDd"
      },
      "source": [
        "**Mood**\n",
        "\n",
        "`Mood` belongs to categorical data type. As the name suggests, categorical data type has two or more categories in it.\n",
        "\n",
        "Let's check the values of `mood` variable -"
      ]
    },
    {
      "cell_type": "code",
      "execution_count": null,
      "metadata": {
        "id": "26d6fe5e",
        "colab": {
          "base_uri": "https://localhost:8080/"
        },
        "outputId": "a5a0224a-01e2-468b-b4e8-869555a7e5b6"
      },
      "outputs": [
        {
          "output_type": "execute_result",
          "data": {
            "text/plain": [
              "array(['Neutral', 'Sad', 'Sad', 'Sad', 'Neutral', 'Sad', 'Sad', 'Sad',\n",
              "       'Sad', 'Sad', 'Sad', 'Sad', 'Happy', 'Sad', 'Sad', 'Sad', 'Sad',\n",
              "       'Neutral', 'Neutral', 'Neutral', 'Neutral', 'Neutral', 'Neutral',\n",
              "       'Happy', 'Neutral', 'Happy', 'Happy', 'Happy', 'Happy', 'Happy',\n",
              "       'Happy', 'Happy', 'Neutral', 'Happy', 'Happy', 'Happy', 'Happy',\n",
              "       'Happy', 'Happy', 'Happy', 'Happy', 'Happy', 'Happy', 'Neutral',\n",
              "       'Happy', 'Happy', 'Happy', 'Happy', 'Happy', 'Happy', 'Happy',\n",
              "       'Happy', 'Happy', 'Neutral', 'Sad', 'Happy', 'Happy', 'Happy',\n",
              "       'Happy', 'Happy', 'Happy', 'Happy', 'Sad', 'Neutral', 'Neutral',\n",
              "       'Sad', 'Sad', 'Neutral', 'Neutral', 'Happy', 'Neutral', 'Neutral',\n",
              "       'Sad', 'Neutral', 'Sad', 'Neutral', 'Neutral', 'Sad', 'Sad', 'Sad',\n",
              "       'Sad', 'Happy', 'Neutral', 'Happy', 'Neutral', 'Sad', 'Sad', 'Sad',\n",
              "       'Neutral', 'Neutral', 'Sad', 'Sad', 'Happy', 'Neutral', 'Neutral',\n",
              "       'Happy'], dtype='<U10')"
            ]
          },
          "metadata": {},
          "execution_count": 70
        }
      ],
      "source": [
        "mood"
      ]
    },
    {
      "cell_type": "code",
      "execution_count": null,
      "metadata": {
        "id": "5Oh9BXe8bDIA",
        "colab": {
          "base_uri": "https://localhost:8080/"
        },
        "outputId": "d9c3cf07-1647-4c3f-f74e-2b0ff02b8bd0"
      },
      "outputs": [
        {
          "output_type": "execute_result",
          "data": {
            "text/plain": [
              "array(['Happy', 'Neutral', 'Sad'], dtype='<U10')"
            ]
          },
          "metadata": {},
          "execution_count": 71
        }
      ],
      "source": [
        "np.unique(mood)"
      ]
    },
    {
      "cell_type": "markdown",
      "metadata": {
        "id": "eM70740Pb6g7"
      },
      "source": [
        "**Activity Status**"
      ]
    },
    {
      "cell_type": "code",
      "execution_count": null,
      "metadata": {
        "id": "64Nl1AVOb9-q",
        "colab": {
          "base_uri": "https://localhost:8080/"
        },
        "outputId": "e9666382-5a63-4e33-97bd-ae00b31d5edf"
      },
      "outputs": [
        {
          "output_type": "execute_result",
          "data": {
            "text/plain": [
              "array(['Inactive', 'Inactive', 'Inactive', 'Inactive', 'Active',\n",
              "       'Inactive', 'Inactive', 'Inactive', 'Inactive', 'Inactive',\n",
              "       'Inactive', 'Inactive', 'Active', 'Inactive', 'Inactive',\n",
              "       'Inactive', 'Inactive', 'Inactive', 'Inactive', 'Inactive',\n",
              "       'Inactive', 'Inactive', 'Inactive', 'Inactive', 'Inactive',\n",
              "       'Active', 'Inactive', 'Inactive', 'Inactive', 'Inactive', 'Active',\n",
              "       'Inactive', 'Inactive', 'Inactive', 'Inactive', 'Inactive',\n",
              "       'Active', 'Active', 'Active', 'Active', 'Active', 'Active',\n",
              "       'Active', 'Active', 'Active', 'Inactive', 'Inactive', 'Inactive',\n",
              "       'Inactive', 'Inactive', 'Inactive', 'Active', 'Active', 'Active',\n",
              "       'Active', 'Active', 'Active', 'Active', 'Active', 'Active',\n",
              "       'Active', 'Active', 'Active', 'Inactive', 'Active', 'Active',\n",
              "       'Inactive', 'Active', 'Active', 'Active', 'Active', 'Active',\n",
              "       'Inactive', 'Active', 'Active', 'Active', 'Active', 'Inactive',\n",
              "       'Inactive', 'Inactive', 'Inactive', 'Active', 'Active', 'Active',\n",
              "       'Active', 'Inactive', 'Inactive', 'Inactive', 'Inactive',\n",
              "       'Inactive', 'Inactive', 'Inactive', 'Inactive', 'Active',\n",
              "       'Inactive', 'Active'], dtype='<U10')"
            ]
          },
          "metadata": {},
          "execution_count": 72
        }
      ],
      "source": [
        "activity_status"
      ]
    },
    {
      "cell_type": "markdown",
      "source": [
        "Since we've extracted form the same source array, we know that\n",
        "- `mood[0]` and `step_count[0]`\n",
        "- There is a connection between them, as they belong to the same record.\n",
        "\n",
        "Also, we know that their length will be the same, i.e. `96`"
      ],
      "metadata": {
        "id": "d1Bds_cIvaUI"
      }
    },
    {
      "cell_type": "markdown",
      "source": [
        "Now let's look at something really interesting.\n",
        "\n",
        "**Can we extract the step counts, when the mood was Happy?**"
      ],
      "metadata": {
        "id": "_yZuVsjQwG49"
      }
    },
    {
      "cell_type": "code",
      "source": [
        "step_count_happy = step_count[mood == 'Happy']"
      ],
      "metadata": {
        "id": "SA9M5RcqwV3K"
      },
      "execution_count": null,
      "outputs": []
    },
    {
      "cell_type": "code",
      "source": [
        "len(step_count_happy)"
      ],
      "metadata": {
        "id": "V4aK8e6xAIO2",
        "colab": {
          "base_uri": "https://localhost:8080/"
        },
        "outputId": "566fd0b3-2a34-45ee-f601-948157064a8f"
      },
      "execution_count": null,
      "outputs": [
        {
          "output_type": "execute_result",
          "data": {
            "text/plain": [
              "40"
            ]
          },
          "metadata": {},
          "execution_count": 74
        }
      ]
    },
    {
      "cell_type": "markdown",
      "source": [
        "Let's also find for when the mood was Sad."
      ],
      "metadata": {
        "id": "fRfN91OrwpHK"
      }
    },
    {
      "cell_type": "code",
      "source": [
        "step_count_sad = step_count[mood == 'Sad']\n",
        "step_count_sad"
      ],
      "metadata": {
        "id": "8EKQAAOkwrkP",
        "colab": {
          "base_uri": "https://localhost:8080/"
        },
        "outputId": "6fb272e3-1607-44d8-c6bf-e60b0bfb6168"
      },
      "execution_count": null,
      "outputs": [
        {
          "output_type": "execute_result",
          "data": {
            "text/plain": [
              "array([6041,   25, 5461, 4545, 4340, 1230,   61, 1258, 3148, 4687, 3519,\n",
              "       1580, 2822,  181, 6676, 3721, 1648,  799, 1696,  221, 4061,  651,\n",
              "        753,  518,  177,   36,  299,  702,  133])"
            ]
          },
          "metadata": {},
          "execution_count": 75
        }
      ]
    },
    {
      "cell_type": "code",
      "source": [
        "len(step_count_sad)"
      ],
      "metadata": {
        "id": "Yb5VS3MOwwmv",
        "colab": {
          "base_uri": "https://localhost:8080/"
        },
        "outputId": "9d15f505-42b5-44c4-e4f3-f6cded5d49d3"
      },
      "execution_count": null,
      "outputs": [
        {
          "output_type": "execute_result",
          "data": {
            "text/plain": [
              "29"
            ]
          },
          "metadata": {},
          "execution_count": 76
        }
      ]
    },
    {
      "cell_type": "markdown",
      "source": [
        "Let's do the same for when the mood was Neutral."
      ],
      "metadata": {
        "id": "xIjdyzGDw9eq"
      }
    },
    {
      "cell_type": "code",
      "source": [
        "step_count_neutral = step_count[mood == 'Neutral']\n",
        "step_count_neutral"
      ],
      "metadata": {
        "id": "BxJJkHPOw9fG",
        "colab": {
          "base_uri": "https://localhost:8080/"
        },
        "outputId": "fb9c2266-89a8-4527-97b5-7adeb72e80f2"
      },
      "execution_count": null,
      "outputs": [
        {
          "output_type": "execute_result",
          "data": {
            "text/plain": [
              "array([5464, 6915, 3158, 4383, 3881, 4037,  202,  292, 2209, 6041,  570,\n",
              "       1163, 2374, 2909, 7102, 3941,  437, 1231, 4921, 6500, 3575, 4108,\n",
              "       3066, 1447, 2599,  500, 2127])"
            ]
          },
          "metadata": {},
          "execution_count": 77
        }
      ]
    },
    {
      "cell_type": "code",
      "source": [
        "len(step_count_neutral)"
      ],
      "metadata": {
        "id": "yec0sBcXw9fH",
        "colab": {
          "base_uri": "https://localhost:8080/"
        },
        "outputId": "868474bd-4f7d-4c63-d2b6-bc32fc93beea"
      },
      "execution_count": null,
      "outputs": [
        {
          "output_type": "execute_result",
          "data": {
            "text/plain": [
              "27"
            ]
          },
          "metadata": {},
          "execution_count": 78
        }
      ]
    },
    {
      "cell_type": "markdown",
      "source": [
        "**How can we collect data for when the mood was either happy or neutral?**"
      ],
      "metadata": {
        "id": "biTekrfBxKr0"
      }
    },
    {
      "cell_type": "code",
      "source": [
        "step_count_happy_or_neutral = step_count[(mood == 'Neutral') | (mood == 'Happy')]\n",
        "step_count_happy_or_neutral"
      ],
      "metadata": {
        "id": "6kgpwQhjxZt3",
        "colab": {
          "base_uri": "https://localhost:8080/"
        },
        "outputId": "7b612067-8d3a-4405-c28e-c8462f3f2c7d"
      },
      "execution_count": null,
      "outputs": [
        {
          "output_type": "execute_result",
          "data": {
            "text/plain": [
              "array([5464, 6915, 4732, 3158, 4383, 3881, 4037,  202,  292,  330, 2209,\n",
              "       4550, 4435, 4779, 1831, 2255,  539, 5464, 6041, 4068, 4683, 4033,\n",
              "       6314,  614, 3149, 4005, 4880, 4136,  705,  570,  269, 4275, 5999,\n",
              "       4421, 6930, 5195,  546,  493,  995, 1163, 3608,  774, 1421, 4064,\n",
              "       2725, 5934, 1867, 2374, 2909, 7102, 3941, 7422,  437, 1231, 4921,\n",
              "       6500, 3575, 5537, 4108, 5376, 3066, 1447, 2599,  153,  500, 2127,\n",
              "       2203])"
            ]
          },
          "metadata": {},
          "execution_count": 79
        }
      ]
    },
    {
      "cell_type": "code",
      "source": [
        "len(step_count_happy_or_neutral)"
      ],
      "metadata": {
        "id": "C8j7kTFfxZuF",
        "colab": {
          "base_uri": "https://localhost:8080/"
        },
        "outputId": "e8a54750-5abd-4a37-c676-d0a369f96f57"
      },
      "execution_count": null,
      "outputs": [
        {
          "output_type": "execute_result",
          "data": {
            "text/plain": [
              "67"
            ]
          },
          "metadata": {},
          "execution_count": 80
        }
      ]
    },
    {
      "cell_type": "markdown",
      "metadata": {
        "id": "6ILytZ8fkCvp"
      },
      "source": [
        "**Let's try to compare step counts on bad mood days and good mood days.**"
      ]
    },
    {
      "cell_type": "code",
      "execution_count": null,
      "metadata": {
        "id": "Mi_JuVdNkcx-",
        "colab": {
          "base_uri": "https://localhost:8080/"
        },
        "outputId": "7a58dc22-4d88-41b5-d99d-f988e79f563b"
      },
      "outputs": [
        {
          "output_type": "execute_result",
          "data": {
            "text/plain": [
              "2103.0689655172414"
            ]
          },
          "metadata": {},
          "execution_count": 81
        }
      ],
      "source": [
        "# Average step count on Sad mood days -\n",
        "\n",
        "np.mean(step_count_sad)"
      ]
    },
    {
      "cell_type": "code",
      "execution_count": null,
      "metadata": {
        "id": "tqc73GG_khss",
        "colab": {
          "base_uri": "https://localhost:8080/"
        },
        "outputId": "2fd3ef34-deab-45d2-e0a0-c4ee59f7fdb0"
      },
      "outputs": [
        {
          "output_type": "execute_result",
          "data": {
            "text/plain": [
              "3392.725"
            ]
          },
          "metadata": {},
          "execution_count": 82
        }
      ],
      "source": [
        "# Average step count on Happy days -\n",
        "\n",
        "np.mean(step_count_happy)"
      ]
    },
    {
      "cell_type": "code",
      "execution_count": null,
      "metadata": {
        "id": "Lf8r6Pi8yQn3",
        "colab": {
          "base_uri": "https://localhost:8080/"
        },
        "outputId": "6886ef17-75b4-4fd5-c1ed-2ae251eaca12"
      },
      "outputs": [
        {
          "output_type": "execute_result",
          "data": {
            "text/plain": [
              "3153.777777777778"
            ]
          },
          "metadata": {},
          "execution_count": 83
        }
      ],
      "source": [
        "# Average step count on Neutral days -\n",
        "\n",
        "np.mean(step_count_neutral)"
      ]
    },
    {
      "cell_type": "markdown",
      "source": [
        "As you can see, this data tells us a lot about user behaviour.\n",
        "\n",
        "This way we can analyze data and learn.\n",
        "\n",
        "This is just the second class on numpy, we will learn many more concepts related to this, and pandas also."
      ],
      "metadata": {
        "id": "hxevvmK4yYAs"
      }
    },
    {
      "cell_type": "markdown",
      "metadata": {
        "id": "LQNvtZ1rlU9y"
      },
      "source": [
        "**Let's try to check the mood when step count was greater/lesser.**"
      ]
    },
    {
      "cell_type": "code",
      "execution_count": null,
      "metadata": {
        "id": "TyQDns17lek8",
        "colab": {
          "base_uri": "https://localhost:8080/"
        },
        "outputId": "a38b8c08-d540-4738-e30e-c8d8e6d5a544"
      },
      "outputs": [
        {
          "output_type": "execute_result",
          "data": {
            "text/plain": [
              "(array(['Happy', 'Neutral', 'Sad'], dtype='<U10'), array([22,  9,  7]))"
            ]
          },
          "metadata": {},
          "execution_count": 84
        }
      ],
      "source": [
        "# mood when step count > 4000\n",
        "\n",
        "np.unique(mood[step_count > 4000], return_counts = True)"
      ]
    },
    {
      "cell_type": "markdown",
      "metadata": {
        "id": "FEmry7IUlkZn"
      },
      "source": [
        "Out of 38 days when step count was more than 4000, user was feeling happy on 22 days."
      ]
    },
    {
      "cell_type": "code",
      "execution_count": null,
      "metadata": {
        "id": "htueN494lyqa",
        "colab": {
          "base_uri": "https://localhost:8080/"
        },
        "outputId": "6ded89f3-1790-4a54-ed2a-e70eebb7aa1e"
      },
      "outputs": [
        {
          "output_type": "execute_result",
          "data": {
            "text/plain": [
              "(array(['Happy', 'Neutral', 'Sad'], dtype='<U10'), array([13,  8, 18]))"
            ]
          },
          "metadata": {},
          "execution_count": 85
        }
      ],
      "source": [
        "# mood when step count <= 2000\n",
        "\n",
        "np.unique(mood[step_count <= 2000], return_counts = True)"
      ]
    },
    {
      "cell_type": "markdown",
      "metadata": {
        "id": "suk18w4VmEJx"
      },
      "source": [
        "Out of 39 days, when step count was less than 2000, user was feeling sad on 18 days."
      ]
    },
    {
      "cell_type": "markdown",
      "metadata": {
        "id": "rQmdcuhBmNaS"
      },
      "source": [
        "#### **This suggests that there may be a correlation between the `Mood` and `Step Count`.**"
      ]
    },
    {
      "cell_type": "markdown",
      "source": [
        "---"
      ],
      "metadata": {
        "id": "GPMgkDT25tVS"
      }
    },
    {
      "cell_type": "code",
      "source": [],
      "metadata": {
        "id": "fnffmKB_57et"
      },
      "execution_count": null,
      "outputs": []
    }
  ]
}